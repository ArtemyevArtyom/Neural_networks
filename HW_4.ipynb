{
  "cells": [
    {
      "cell_type": "markdown",
      "id": "3d1eb1ad",
      "metadata": {
        "papermill": {
          "duration": 0.017559,
          "end_time": "2023-12-27T07:58:14.568850",
          "exception": false,
          "start_time": "2023-12-27T07:58:14.551291",
          "status": "completed"
        },
        "tags": [],
        "id": "3d1eb1ad"
      },
      "source": [
        "**Урок 4. Сверточные нейронные сети**\n",
        "\n",
        "ДЗ - поиграться с кодом соревнования по Северстали, получить как можно лучший результат.\n",
        "\n",
        "Альтернативное ДЗ - рассмотреть постановку и решение аналогичного индустриального кейса.\n",
        "\n",
        "Сдавать как обычно блокнот через Гитхаб или Гугл колаб.\n"
      ]
    },
    {
      "cell_type": "markdown",
      "metadata": {
        "id": "e0b1d0e1",
        "papermill": {
          "duration": 0.01841,
          "end_time": "2023-12-27T07:58:14.533248",
          "exception": false,
          "start_time": "2023-12-27T07:58:14.514838",
          "status": "completed"
        },
        "tags": []
      },
      "source": [
        "Сталь – один из важнейших строительных материалов современности. Стальные здания устойчивы к естественному и искусственному износу, что сделало этот материал повсеместно распространенным во всем мире. Чтобы сделать производство стали более эффективным, этот конкурс поможет выявить дефекты.\n"
      ],
      "id": "e0b1d0e1"
    },
    {
      "cell_type": "markdown",
      "metadata": {
        "papermill": {
          "duration": 0.017559,
          "end_time": "2023-12-27T07:58:14.568850",
          "exception": false,
          "start_time": "2023-12-27T07:58:14.551291",
          "status": "completed"
        },
        "tags": [],
        "id": "UDKGckIv0QIf"
      },
      "source": [
        "ссылка на каггл с этим соревнованием - https://www.kaggle.com/c/severstal-steel-defect-detection"
      ],
      "id": "UDKGckIv0QIf"
    },
    {
      "cell_type": "markdown",
      "metadata": {
        "id": "f5586340",
        "papermill": {
          "duration": 0.017444,
          "end_time": "2023-12-27T07:58:14.604291",
          "exception": false,
          "start_time": "2023-12-27T07:58:14.586847",
          "status": "completed"
        },
        "tags": []
      },
      "source": [
        "### Постановка задачи :\n",
        "\n",
        "Этот конкурс представляет собой двойной конкурс: классифицируйте тип дефекта стали, а также сегментируйте части изображения, содержащие дефект.\n",
        "\n"
      ],
      "id": "f5586340"
    },
    {
      "cell_type": "code",
      "execution_count": 1,
      "id": "b184991a",
      "metadata": {
        "execution": {
          "iopub.execute_input": "2023-12-27T07:58:14.642850Z",
          "iopub.status.busy": "2023-12-27T07:58:14.641724Z",
          "iopub.status.idle": "2023-12-27T07:58:31.920360Z",
          "shell.execute_reply": "2023-12-27T07:58:31.919223Z"
        },
        "id": "b184991a",
        "papermill": {
          "duration": 17.30131,
          "end_time": "2023-12-27T07:58:31.923478",
          "exception": false,
          "start_time": "2023-12-27T07:58:14.622168",
          "status": "completed"
        },
        "tags": []
      },
      "outputs": [],
      "source": [
        "import pandas as pd\n",
        "import numpy as np\n",
        "import matplotlib.pyplot as plt\n",
        "import seaborn as sns\n",
        "import warnings\n",
        "import keras\n",
        "from sklearn.model_selection import train_test_split\n",
        "from tqdm import tqdm\n",
        "from sklearn.preprocessing import OneHotEncoder,LabelEncoder\n",
        "from keras.utils import to_categorical\n",
        "from keras.models import Sequential\n",
        "import tensorflow as tf\n",
        "from keras.layers import Dense,Conv2D,Flatten,MaxPooling2D,Dropout"
      ]
    },
    {
      "cell_type": "markdown",
      "source": [
        "**Загрузка датасета**"
      ],
      "metadata": {
        "id": "PCuGmHefoQ0a"
      },
      "id": "PCuGmHefoQ0a"
    },
    {
      "cell_type": "code",
      "source": [
        "data = pd.read_csv('/home/train.csv')"
      ],
      "metadata": {
        "id": "uzOpFp5NnvMH"
      },
      "id": "uzOpFp5NnvMH",
      "execution_count": 11,
      "outputs": []
    },
    {
      "cell_type": "code",
      "execution_count": 12,
      "id": "95c02989",
      "metadata": {
        "execution": {
          "iopub.execute_input": "2023-12-27T07:58:32.542114Z",
          "iopub.status.busy": "2023-12-27T07:58:32.541680Z",
          "iopub.status.idle": "2023-12-27T07:58:32.573679Z",
          "shell.execute_reply": "2023-12-27T07:58:32.572370Z"
        },
        "id": "95c02989",
        "outputId": "6da1fc91-3830-4d83-9bc3-56b4dd2ca2ce",
        "papermill": {
          "duration": 0.055127,
          "end_time": "2023-12-27T07:58:32.576490",
          "exception": false,
          "start_time": "2023-12-27T07:58:32.521363",
          "status": "completed"
        },
        "tags": [],
        "colab": {
          "base_uri": "https://localhost:8080/",
          "height": 423
        }
      },
      "outputs": [
        {
          "output_type": "execute_result",
          "data": {
            "text/plain": [
              "            ImageId  ClassId  \\\n",
              "0     0002cc93b.jpg        1   \n",
              "1     0007a71bf.jpg        3   \n",
              "2     000a4bcdd.jpg        1   \n",
              "3     000f6bf48.jpg        4   \n",
              "4     0014fce06.jpg        3   \n",
              "...             ...      ...   \n",
              "7090  ffcf72ecf.jpg        3   \n",
              "7091  fff02e9c5.jpg        3   \n",
              "7092  fffe98443.jpg        3   \n",
              "7093  ffff4eaa8.jpg        3   \n",
              "7094  ffffd67df.jpg        3   \n",
              "\n",
              "                                          EncodedPixels  \n",
              "0     29102 12 29346 24 29602 24 29858 24 30114 24 3...  \n",
              "1     18661 28 18863 82 19091 110 19347 110 19603 11...  \n",
              "2     37607 3 37858 8 38108 14 38359 20 38610 25 388...  \n",
              "3     131973 1 132228 4 132483 6 132738 8 132993 11 ...  \n",
              "4     229501 11 229741 33 229981 55 230221 77 230468...  \n",
              "...                                                 ...  \n",
              "7090  121911 34 122167 101 122422 169 122678 203 122...  \n",
              "7091  207523 3 207777 9 208030 15 208283 22 208537 2...  \n",
              "7092  105929 5 106177 14 106424 24 106672 33 106923 ...  \n",
              "7093  16899 7 17155 20 17411 34 17667 47 17923 60 18...  \n",
              "7094  30931 43 31103 127 31275 211 31489 253 31745 2...  \n",
              "\n",
              "[7095 rows x 3 columns]"
            ],
            "text/html": [
              "\n",
              "  <div id=\"df-0ee88f07-23dc-460a-82a7-c77fd0734741\" class=\"colab-df-container\">\n",
              "    <div>\n",
              "<style scoped>\n",
              "    .dataframe tbody tr th:only-of-type {\n",
              "        vertical-align: middle;\n",
              "    }\n",
              "\n",
              "    .dataframe tbody tr th {\n",
              "        vertical-align: top;\n",
              "    }\n",
              "\n",
              "    .dataframe thead th {\n",
              "        text-align: right;\n",
              "    }\n",
              "</style>\n",
              "<table border=\"1\" class=\"dataframe\">\n",
              "  <thead>\n",
              "    <tr style=\"text-align: right;\">\n",
              "      <th></th>\n",
              "      <th>ImageId</th>\n",
              "      <th>ClassId</th>\n",
              "      <th>EncodedPixels</th>\n",
              "    </tr>\n",
              "  </thead>\n",
              "  <tbody>\n",
              "    <tr>\n",
              "      <th>0</th>\n",
              "      <td>0002cc93b.jpg</td>\n",
              "      <td>1</td>\n",
              "      <td>29102 12 29346 24 29602 24 29858 24 30114 24 3...</td>\n",
              "    </tr>\n",
              "    <tr>\n",
              "      <th>1</th>\n",
              "      <td>0007a71bf.jpg</td>\n",
              "      <td>3</td>\n",
              "      <td>18661 28 18863 82 19091 110 19347 110 19603 11...</td>\n",
              "    </tr>\n",
              "    <tr>\n",
              "      <th>2</th>\n",
              "      <td>000a4bcdd.jpg</td>\n",
              "      <td>1</td>\n",
              "      <td>37607 3 37858 8 38108 14 38359 20 38610 25 388...</td>\n",
              "    </tr>\n",
              "    <tr>\n",
              "      <th>3</th>\n",
              "      <td>000f6bf48.jpg</td>\n",
              "      <td>4</td>\n",
              "      <td>131973 1 132228 4 132483 6 132738 8 132993 11 ...</td>\n",
              "    </tr>\n",
              "    <tr>\n",
              "      <th>4</th>\n",
              "      <td>0014fce06.jpg</td>\n",
              "      <td>3</td>\n",
              "      <td>229501 11 229741 33 229981 55 230221 77 230468...</td>\n",
              "    </tr>\n",
              "    <tr>\n",
              "      <th>...</th>\n",
              "      <td>...</td>\n",
              "      <td>...</td>\n",
              "      <td>...</td>\n",
              "    </tr>\n",
              "    <tr>\n",
              "      <th>7090</th>\n",
              "      <td>ffcf72ecf.jpg</td>\n",
              "      <td>3</td>\n",
              "      <td>121911 34 122167 101 122422 169 122678 203 122...</td>\n",
              "    </tr>\n",
              "    <tr>\n",
              "      <th>7091</th>\n",
              "      <td>fff02e9c5.jpg</td>\n",
              "      <td>3</td>\n",
              "      <td>207523 3 207777 9 208030 15 208283 22 208537 2...</td>\n",
              "    </tr>\n",
              "    <tr>\n",
              "      <th>7092</th>\n",
              "      <td>fffe98443.jpg</td>\n",
              "      <td>3</td>\n",
              "      <td>105929 5 106177 14 106424 24 106672 33 106923 ...</td>\n",
              "    </tr>\n",
              "    <tr>\n",
              "      <th>7093</th>\n",
              "      <td>ffff4eaa8.jpg</td>\n",
              "      <td>3</td>\n",
              "      <td>16899 7 17155 20 17411 34 17667 47 17923 60 18...</td>\n",
              "    </tr>\n",
              "    <tr>\n",
              "      <th>7094</th>\n",
              "      <td>ffffd67df.jpg</td>\n",
              "      <td>3</td>\n",
              "      <td>30931 43 31103 127 31275 211 31489 253 31745 2...</td>\n",
              "    </tr>\n",
              "  </tbody>\n",
              "</table>\n",
              "<p>7095 rows × 3 columns</p>\n",
              "</div>\n",
              "    <div class=\"colab-df-buttons\">\n",
              "\n",
              "  <div class=\"colab-df-container\">\n",
              "    <button class=\"colab-df-convert\" onclick=\"convertToInteractive('df-0ee88f07-23dc-460a-82a7-c77fd0734741')\"\n",
              "            title=\"Convert this dataframe to an interactive table.\"\n",
              "            style=\"display:none;\">\n",
              "\n",
              "  <svg xmlns=\"http://www.w3.org/2000/svg\" height=\"24px\" viewBox=\"0 -960 960 960\">\n",
              "    <path d=\"M120-120v-720h720v720H120Zm60-500h600v-160H180v160Zm220 220h160v-160H400v160Zm0 220h160v-160H400v160ZM180-400h160v-160H180v160Zm440 0h160v-160H620v160ZM180-180h160v-160H180v160Zm440 0h160v-160H620v160Z\"/>\n",
              "  </svg>\n",
              "    </button>\n",
              "\n",
              "  <style>\n",
              "    .colab-df-container {\n",
              "      display:flex;\n",
              "      gap: 12px;\n",
              "    }\n",
              "\n",
              "    .colab-df-convert {\n",
              "      background-color: #E8F0FE;\n",
              "      border: none;\n",
              "      border-radius: 50%;\n",
              "      cursor: pointer;\n",
              "      display: none;\n",
              "      fill: #1967D2;\n",
              "      height: 32px;\n",
              "      padding: 0 0 0 0;\n",
              "      width: 32px;\n",
              "    }\n",
              "\n",
              "    .colab-df-convert:hover {\n",
              "      background-color: #E2EBFA;\n",
              "      box-shadow: 0px 1px 2px rgba(60, 64, 67, 0.3), 0px 1px 3px 1px rgba(60, 64, 67, 0.15);\n",
              "      fill: #174EA6;\n",
              "    }\n",
              "\n",
              "    .colab-df-buttons div {\n",
              "      margin-bottom: 4px;\n",
              "    }\n",
              "\n",
              "    [theme=dark] .colab-df-convert {\n",
              "      background-color: #3B4455;\n",
              "      fill: #D2E3FC;\n",
              "    }\n",
              "\n",
              "    [theme=dark] .colab-df-convert:hover {\n",
              "      background-color: #434B5C;\n",
              "      box-shadow: 0px 1px 3px 1px rgba(0, 0, 0, 0.15);\n",
              "      filter: drop-shadow(0px 1px 2px rgba(0, 0, 0, 0.3));\n",
              "      fill: #FFFFFF;\n",
              "    }\n",
              "  </style>\n",
              "\n",
              "    <script>\n",
              "      const buttonEl =\n",
              "        document.querySelector('#df-0ee88f07-23dc-460a-82a7-c77fd0734741 button.colab-df-convert');\n",
              "      buttonEl.style.display =\n",
              "        google.colab.kernel.accessAllowed ? 'block' : 'none';\n",
              "\n",
              "      async function convertToInteractive(key) {\n",
              "        const element = document.querySelector('#df-0ee88f07-23dc-460a-82a7-c77fd0734741');\n",
              "        const dataTable =\n",
              "          await google.colab.kernel.invokeFunction('convertToInteractive',\n",
              "                                                    [key], {});\n",
              "        if (!dataTable) return;\n",
              "\n",
              "        const docLinkHtml = 'Like what you see? Visit the ' +\n",
              "          '<a target=\"_blank\" href=https://colab.research.google.com/notebooks/data_table.ipynb>data table notebook</a>'\n",
              "          + ' to learn more about interactive tables.';\n",
              "        element.innerHTML = '';\n",
              "        dataTable['output_type'] = 'display_data';\n",
              "        await google.colab.output.renderOutput(dataTable, element);\n",
              "        const docLink = document.createElement('div');\n",
              "        docLink.innerHTML = docLinkHtml;\n",
              "        element.appendChild(docLink);\n",
              "      }\n",
              "    </script>\n",
              "  </div>\n",
              "\n",
              "\n",
              "<div id=\"df-e7dacaf3-c633-4f34-97d0-f4adc89f7335\">\n",
              "  <button class=\"colab-df-quickchart\" onclick=\"quickchart('df-e7dacaf3-c633-4f34-97d0-f4adc89f7335')\"\n",
              "            title=\"Suggest charts\"\n",
              "            style=\"display:none;\">\n",
              "\n",
              "<svg xmlns=\"http://www.w3.org/2000/svg\" height=\"24px\"viewBox=\"0 0 24 24\"\n",
              "     width=\"24px\">\n",
              "    <g>\n",
              "        <path d=\"M19 3H5c-1.1 0-2 .9-2 2v14c0 1.1.9 2 2 2h14c1.1 0 2-.9 2-2V5c0-1.1-.9-2-2-2zM9 17H7v-7h2v7zm4 0h-2V7h2v10zm4 0h-2v-4h2v4z\"/>\n",
              "    </g>\n",
              "</svg>\n",
              "  </button>\n",
              "\n",
              "<style>\n",
              "  .colab-df-quickchart {\n",
              "      --bg-color: #E8F0FE;\n",
              "      --fill-color: #1967D2;\n",
              "      --hover-bg-color: #E2EBFA;\n",
              "      --hover-fill-color: #174EA6;\n",
              "      --disabled-fill-color: #AAA;\n",
              "      --disabled-bg-color: #DDD;\n",
              "  }\n",
              "\n",
              "  [theme=dark] .colab-df-quickchart {\n",
              "      --bg-color: #3B4455;\n",
              "      --fill-color: #D2E3FC;\n",
              "      --hover-bg-color: #434B5C;\n",
              "      --hover-fill-color: #FFFFFF;\n",
              "      --disabled-bg-color: #3B4455;\n",
              "      --disabled-fill-color: #666;\n",
              "  }\n",
              "\n",
              "  .colab-df-quickchart {\n",
              "    background-color: var(--bg-color);\n",
              "    border: none;\n",
              "    border-radius: 50%;\n",
              "    cursor: pointer;\n",
              "    display: none;\n",
              "    fill: var(--fill-color);\n",
              "    height: 32px;\n",
              "    padding: 0;\n",
              "    width: 32px;\n",
              "  }\n",
              "\n",
              "  .colab-df-quickchart:hover {\n",
              "    background-color: var(--hover-bg-color);\n",
              "    box-shadow: 0 1px 2px rgba(60, 64, 67, 0.3), 0 1px 3px 1px rgba(60, 64, 67, 0.15);\n",
              "    fill: var(--button-hover-fill-color);\n",
              "  }\n",
              "\n",
              "  .colab-df-quickchart-complete:disabled,\n",
              "  .colab-df-quickchart-complete:disabled:hover {\n",
              "    background-color: var(--disabled-bg-color);\n",
              "    fill: var(--disabled-fill-color);\n",
              "    box-shadow: none;\n",
              "  }\n",
              "\n",
              "  .colab-df-spinner {\n",
              "    border: 2px solid var(--fill-color);\n",
              "    border-color: transparent;\n",
              "    border-bottom-color: var(--fill-color);\n",
              "    animation:\n",
              "      spin 1s steps(1) infinite;\n",
              "  }\n",
              "\n",
              "  @keyframes spin {\n",
              "    0% {\n",
              "      border-color: transparent;\n",
              "      border-bottom-color: var(--fill-color);\n",
              "      border-left-color: var(--fill-color);\n",
              "    }\n",
              "    20% {\n",
              "      border-color: transparent;\n",
              "      border-left-color: var(--fill-color);\n",
              "      border-top-color: var(--fill-color);\n",
              "    }\n",
              "    30% {\n",
              "      border-color: transparent;\n",
              "      border-left-color: var(--fill-color);\n",
              "      border-top-color: var(--fill-color);\n",
              "      border-right-color: var(--fill-color);\n",
              "    }\n",
              "    40% {\n",
              "      border-color: transparent;\n",
              "      border-right-color: var(--fill-color);\n",
              "      border-top-color: var(--fill-color);\n",
              "    }\n",
              "    60% {\n",
              "      border-color: transparent;\n",
              "      border-right-color: var(--fill-color);\n",
              "    }\n",
              "    80% {\n",
              "      border-color: transparent;\n",
              "      border-right-color: var(--fill-color);\n",
              "      border-bottom-color: var(--fill-color);\n",
              "    }\n",
              "    90% {\n",
              "      border-color: transparent;\n",
              "      border-bottom-color: var(--fill-color);\n",
              "    }\n",
              "  }\n",
              "</style>\n",
              "\n",
              "  <script>\n",
              "    async function quickchart(key) {\n",
              "      const quickchartButtonEl =\n",
              "        document.querySelector('#' + key + ' button');\n",
              "      quickchartButtonEl.disabled = true;  // To prevent multiple clicks.\n",
              "      quickchartButtonEl.classList.add('colab-df-spinner');\n",
              "      try {\n",
              "        const charts = await google.colab.kernel.invokeFunction(\n",
              "            'suggestCharts', [key], {});\n",
              "      } catch (error) {\n",
              "        console.error('Error during call to suggestCharts:', error);\n",
              "      }\n",
              "      quickchartButtonEl.classList.remove('colab-df-spinner');\n",
              "      quickchartButtonEl.classList.add('colab-df-quickchart-complete');\n",
              "    }\n",
              "    (() => {\n",
              "      let quickchartButtonEl =\n",
              "        document.querySelector('#df-e7dacaf3-c633-4f34-97d0-f4adc89f7335 button');\n",
              "      quickchartButtonEl.style.display =\n",
              "        google.colab.kernel.accessAllowed ? 'block' : 'none';\n",
              "    })();\n",
              "  </script>\n",
              "</div>\n",
              "    </div>\n",
              "  </div>\n"
            ],
            "application/vnd.google.colaboratory.intrinsic+json": {
              "type": "dataframe",
              "variable_name": "data",
              "summary": "{\n  \"name\": \"data\",\n  \"rows\": 7095,\n  \"fields\": [\n    {\n      \"column\": \"ImageId\",\n      \"properties\": {\n        \"dtype\": \"string\",\n        \"num_unique_values\": 6666,\n        \"samples\": [\n          \"0934b8bff.jpg\",\n          \"5994c3b58.jpg\",\n          \"ec52fac2d.jpg\"\n        ],\n        \"semantic_type\": \"\",\n        \"description\": \"\"\n      }\n    },\n    {\n      \"column\": \"ClassId\",\n      \"properties\": {\n        \"dtype\": \"number\",\n        \"std\": 0,\n        \"min\": 1,\n        \"max\": 4,\n        \"num_unique_values\": 4,\n        \"samples\": [\n          3,\n          2,\n          1\n        ],\n        \"semantic_type\": \"\",\n        \"description\": \"\"\n      }\n    },\n    {\n      \"column\": \"EncodedPixels\",\n      \"properties\": {\n        \"dtype\": \"string\",\n        \"num_unique_values\": 7095,\n        \"samples\": [\n          \"171129 87 171305 215 171521 255 171777 255 172034 254 172290 253 172546 253 172802 253 173059 252 173315 252 173571 252 173828 251 174084 250 174340 250 174596 250 174853 249 175109 124 309507 14 309709 50 309763 41 309867 148 310018 253 310274 253 310530 253 310786 253 311042 254 311298 254 311596 212 311937 127 312277 43 312433 112 312578 223 312834 223 313090 222 313345 223 313601 167 313857 56 352260 63 352516 188 352772 251 353028 251 353284 251 353541 250 353797 249 354053 249 354309 249 354565 249 354821 249 355077 249 355333 248 355589 248 355845 248 356102 247 356358 247 356614 247 356870 246 357126 246 357444 184 357822 62\",\n          \"313510 2 313561 1 313762 5 313816 3 313993 2 314014 7 314049 4 314071 5 314248 5 314266 9 314302 7 314325 9 314503 6 314518 11 314557 8 314580 10 314759 6 314772 11 314811 9 314835 12 315014 7 315028 10 315066 10 315090 13 315111 15 315269 8 315283 9 315320 12 315345 14 315364 20 315524 9 315539 7 315574 14 315599 17 315617 26 315761 2 315781 7 315794 6 315827 16 315853 48 316015 3 316038 6 316050 7 316081 18 316106 53 316269 5 316295 5 316305 9 316336 19 316360 55 316523 6 316553 3 316561 9 316590 21 316613 58 316777 8 316800 1 316810 2 316816 11 316844 22 316867 60 317031 9 317054 2 317067 1 317072 12 317099 84 317285 10 317308 4 317328 13 317353 86 317540 11 317563 4 317585 13 317608 74 317684 11 317796 10 317817 6 317841 13 317861 75 317942 10 318053 9 318071 7 318098 13 318116 74 318199 9 318309 8 318326 7 318354 14 318372 72 318457 7 318566 7 318582 7 318611 12 318627 73 318714 6 318822 6 318839 5 318867 12 318883 73 318971 5 319078 5 319095 4 319123 11 319139 61 319207 4 319229 3 319335 4 319351 4 319379 10 319394 58 319486 2 319591 3 319607 3 319635 10 319648 58 319848 2 319864 2 319891 9 319902 52 319955 6 320104 1 320147 8 320156 52 320403 59 320658 58 320903 5 320914 49 320967 3 321158 7 321170 49 321413 9 321425 49 321668 11 321681 49 321923 13 321937 49 322178 43 322226 16 322434 34 322470 6 322487 11 322689 31 322727 5 322745 9 322946 27 322983 3 323002 9 323203 24 323260 7 323460 21 323708 30 323963 31 324217 34 324472 35 324728 36 324985 35 325245 32 325504 27 325766 17 326030 6 346463 4 346719 10 346976 12 347232 13 347488 15 347545 1 347745 15 347800 4 348001 16 348055 7 348261 14 348310 8 348520 12 348565 9 348776 13 348820 11 349032 10 349075 12 349288 6 349330 14 349544 2 349585 15 349840 17 350097 16 350354 15 350611 7 350620 6 350868 6 350878 4 351125 5 351136 2 351382 4\",\n          \"307601 6 307850 18 308033 1 308057 2 308099 30 308287 3 308311 6 308348 42 308542 4 308564 8 308599 52 308796 7 308817 10 308853 58 309050 9 309071 11 309107 63 309305 10 309324 13 309361 68 309542 1 309559 12 309578 14 309615 73 309796 4 309814 14 309831 16 309869 79 310051 5 310068 16 310085 17 310123 84 310305 8 310323 34 310377 89 310560 9 310577 35 310631 94 310814 12 310831 36 310885 101 311069 14 311086 36 311139 103 311323 16 311340 37 311393 105 311578 55 311647 108 311832 61 311901 110 312087 65 312155 112 312341 181 312596 182 312852 181 313108 181 313364 180 313620 26 313648 102 313751 47 313876 21 313905 100 314009 43 314132 16 314161 99 314267 39 314389 12 314418 97 314525 4 314535 23 314645 11 314674 96 314799 9 314901 10 314929 96 315157 8 315183 97 315413 7 315438 97 315669 1 315671 4 315693 96 315928 2 315948 93 316203 90 316457 89 316712 86 316967 84 317221 84 317475 84 317728 85 317982 83 318236 62 318301 17 318492 62 318565 5 318748 62 319005 60 319261 57 319517 54 319774 51 320030 48 320287 44 320543 41 320801 36 321061 29 321321 22 321580 17 321848 2 340752 2 341008 4 341263 8 341519 10 341775 13 341838 1 342030 16 342093 3 342286 18 342349 3 342542 21 342604 5 342797 24 342859 7 343053 27 343114 8 343309 29 343370 9 343564 31 343625 11 343820 31 343880 12 344076 29 344135 14 344331 29 344391 15 344587 28 344646 16 344842 27 344901 18 345098 26 345156 20 345354 25 345412 20 345609 24 345667 22 345865 23 345924 19 346121 21 346181 16 346376 21 346438 13 346632 20 346695 10 346888 18 346952 7 347144 17 347209 4 347399 17 347466 1 347657 13 347915 10 348174 6 348432 2\"\n        ],\n        \"semantic_type\": \"\",\n        \"description\": \"\"\n      }\n    }\n  ]\n}"
            }
          },
          "metadata": {},
          "execution_count": 12
        }
      ],
      "source": [
        "data"
      ]
    },
    {
      "cell_type": "code",
      "execution_count": 13,
      "id": "f39b0a66",
      "metadata": {
        "execution": {
          "iopub.execute_input": "2023-12-27T07:58:32.616794Z",
          "iopub.status.busy": "2023-12-27T07:58:32.616340Z",
          "iopub.status.idle": "2023-12-27T07:58:32.623942Z",
          "shell.execute_reply": "2023-12-27T07:58:32.622794Z"
        },
        "id": "f39b0a66",
        "outputId": "72301a06-c5b5-448f-ec64-61ada59dabcc",
        "papermill": {
          "duration": 0.031501,
          "end_time": "2023-12-27T07:58:32.626691",
          "exception": false,
          "start_time": "2023-12-27T07:58:32.595190",
          "status": "completed"
        },
        "tags": [],
        "colab": {
          "base_uri": "https://localhost:8080/"
        }
      },
      "outputs": [
        {
          "output_type": "execute_result",
          "data": {
            "text/plain": [
              "(7095, 3)"
            ]
          },
          "metadata": {},
          "execution_count": 13
        }
      ],
      "source": [
        "data.shape"
      ]
    },
    {
      "cell_type": "markdown",
      "id": "75f32651",
      "metadata": {
        "papermill": {
          "duration": 0.018225,
          "end_time": "2023-12-27T07:58:32.702265",
          "exception": false,
          "start_time": "2023-12-27T07:58:32.684040",
          "status": "completed"
        },
        "tags": [],
        "id": "75f32651"
      },
      "source": [
        "# Разведочный анализ данных"
      ]
    },
    {
      "cell_type": "code",
      "execution_count": 14,
      "id": "3fff6247",
      "metadata": {
        "execution": {
          "iopub.execute_input": "2023-12-27T07:58:32.741246Z",
          "iopub.status.busy": "2023-12-27T07:58:32.740796Z",
          "iopub.status.idle": "2023-12-27T07:58:33.057012Z",
          "shell.execute_reply": "2023-12-27T07:58:33.055641Z"
        },
        "id": "3fff6247",
        "outputId": "89b5ef74-5eb0-41a1-800b-3e178b0560be",
        "papermill": {
          "duration": 0.338863,
          "end_time": "2023-12-27T07:58:33.059660",
          "exception": false,
          "start_time": "2023-12-27T07:58:32.720797",
          "status": "completed"
        },
        "tags": [],
        "colab": {
          "base_uri": "https://localhost:8080/",
          "height": 555
        }
      },
      "outputs": [
        {
          "output_type": "execute_result",
          "data": {
            "text/plain": [
              "ClassId\n",
              "3    5150\n",
              "1     897\n",
              "4     801\n",
              "2     247\n",
              "Name: count, dtype: int64"
            ]
          },
          "metadata": {},
          "execution_count": 14
        },
        {
          "output_type": "display_data",
          "data": {
            "text/plain": [
              "<Figure size 640x480 with 1 Axes>"
            ],
            "image/png": "[encoded data removed]"
          },
          "metadata": {}
        }
      ],
      "source": [
        "data[\"ClassId\"].value_counts().plot(kind = 'bar')\n",
        "data[\"ClassId\"].value_counts()"
      ]
    },
    {
      "cell_type": "markdown",
      "id": "3fd99fbf",
      "metadata": {
        "id": "3fd99fbf",
        "papermill": {
          "duration": 0.020298,
          "end_time": "2023-12-27T07:58:33.100233",
          "exception": false,
          "start_time": "2023-12-27T07:58:33.079935",
          "status": "completed"
        },
        "tags": []
      },
      "source": [
        "больше всего меток третьего класса"
      ]
    },
    {
      "cell_type": "markdown",
      "id": "a421804b",
      "metadata": {
        "id": "a421804b",
        "papermill": {
          "duration": 0.018802,
          "end_time": "2023-12-27T07:58:33.209247",
          "exception": false,
          "start_time": "2023-12-27T07:58:33.190445",
          "status": "completed"
        },
        "tags": []
      },
      "source": [
        "Перекос данных, поэтому выполним аугментацию."
      ]
    },
    {
      "cell_type": "code",
      "execution_count": 15,
      "id": "a809c033",
      "metadata": {
        "execution": {
          "iopub.execute_input": "2023-12-27T07:58:33.250243Z",
          "iopub.status.busy": "2023-12-27T07:58:33.249819Z",
          "iopub.status.idle": "2023-12-27T07:58:33.543991Z",
          "shell.execute_reply": "2023-12-27T07:58:33.542655Z"
        },
        "papermill": {
          "duration": 0.31779,
          "end_time": "2023-12-27T07:58:33.546794",
          "exception": false,
          "start_time": "2023-12-27T07:58:33.229004",
          "status": "completed"
        },
        "tags": [],
        "id": "a809c033"
      },
      "outputs": [],
      "source": [
        "import cv2"
      ]
    },
    {
      "cell_type": "markdown",
      "source": [
        "**Загружаем фото из zip-архива**"
      ],
      "metadata": {
        "id": "CsQCSqct3I4H"
      },
      "id": "CsQCSqct3I4H"
    },
    {
      "cell_type": "code",
      "source": [
        "!unzip \"/home/train_images.zip\" -d \"train_images\""
      ],
      "metadata": {
        "id": "LNkBHpvSw_nZ",
        "colab": {
          "base_uri": "https://localhost:8080/"
        },
        "outputId": "69c7f179-7b97-45cc-f9ea-dff51f4881cf"
      },
      "id": "LNkBHpvSw_nZ",
      "execution_count": 16,
      "outputs": [
        {
          "output_type": "stream",
          "name": "stdout",
          "text": [
            "Archive:  /home/train_images.zip\n",
            "replace train_images/f00185797.jpg? [y]es, [n]o, [A]ll, [N]one, [r]ename: a\n",
            "error:  invalid response [a]\n",
            "replace train_images/f00185797.jpg? [y]es, [n]o, [A]ll, [N]one, [r]ename: A\n",
            "  inflating: train_images/f00185797.jpg  \n",
            "  inflating: train_images/f0074b888.jpg  \n",
            "  inflating: train_images/f0075e43c.jpg  \n",
            "  inflating: train_images/f024c4789.jpg  \n",
            "  inflating: train_images/f03379160.jpg  \n",
            "  inflating: train_images/f0344b3ad.jpg  \n",
            "  inflating: train_images/f035b1e71.jpg  \n",
            "  inflating: train_images/f0437a9c3.jpg  \n",
            "  inflating: train_images/f046dc5fa.jpg  \n",
            "  inflating: train_images/f061c7c53.jpg  \n",
            "  inflating: train_images/f0625054e.jpg  \n",
            "  inflating: train_images/f07399cf6.jpg  \n",
            "  inflating: train_images/f07969848.jpg  \n",
            "  inflating: train_images/f0859ea87.jpg  \n",
            "  inflating: train_images/f08716423.jpg  \n",
            "  inflating: train_images/f10768627.jpg  \n",
            "  inflating: train_images/f10e66f64.jpg  \n",
            "  inflating: train_images/f10f625fd.jpg  \n",
            "  inflating: train_images/f1119e073.jpg  \n",
            "  inflating: train_images/f11471db2.jpg  \n",
            "  inflating: train_images/f114d1a28.jpg  \n",
            "  inflating: train_images/f11d59e33.jpg  \n",
            "  inflating: train_images/f12206185.jpg  \n",
            "  inflating: train_images/f13107ec5.jpg  \n",
            "  inflating: train_images/f1317e0c9.jpg  \n",
            "  inflating: train_images/f1396bc02.jpg  \n",
            "  inflating: train_images/f13f86ab1.jpg  \n",
            "  inflating: train_images/f14611c67.jpg  \n",
            "  inflating: train_images/f14b1878e.jpg  \n",
            "  inflating: train_images/f14cec989.jpg  \n",
            "  inflating: train_images/f14f39ad8.jpg  \n",
            "  inflating: train_images/f1529241c.jpg  \n",
            "  inflating: train_images/f157238ea.jpg  \n",
            "  inflating: train_images/f1611c743.jpg  \n",
            "  inflating: train_images/f1691b37f.jpg  \n",
            "  inflating: train_images/f1699acad.jpg  \n",
            "  inflating: train_images/f1699cb5a.jpg  \n",
            "  inflating: train_images/f16c5b437.jpg  \n",
            "  inflating: train_images/f17e982f9.jpg  \n",
            "  inflating: train_images/f1807fbdd.jpg  \n",
            "  inflating: train_images/f180b829c.jpg  \n",
            "  inflating: train_images/f183f0192.jpg  \n",
            "  inflating: train_images/f18461ad5.jpg  \n",
            "  inflating: train_images/f186527ee.jpg  \n",
            "  inflating: train_images/f1889c7bd.jpg  \n",
            "  inflating: train_images/f195eeda7.jpg  \n",
            "  inflating: train_images/f20023b87.jpg  \n",
            "  inflating: train_images/f210c637e.jpg  \n",
            "  inflating: train_images/f21b0be46.jpg  \n",
            "  inflating: train_images/f21d3541c.jpg  \n",
            "  inflating: train_images/f22ad3b42.jpg  \n",
            "  inflating: train_images/f22b67de8.jpg  \n",
            "  inflating: train_images/f22da130b.jpg  \n",
            "  inflating: train_images/f23288425.jpg  \n",
            "  inflating: train_images/f2370bcfb.jpg  \n",
            "  inflating: train_images/f23c857a4.jpg  \n",
            "  inflating: train_images/f2444c793.jpg  \n",
            "  inflating: train_images/f24af31d1.jpg  \n",
            "  inflating: train_images/f254f1765.jpg  \n",
            "  inflating: train_images/f25c52683.jpg  \n",
            "  inflating: train_images/f2613b2c4.jpg  \n",
            "  inflating: train_images/f26715715.jpg  \n",
            "  inflating: train_images/f2675f133.jpg  \n",
            "  inflating: train_images/f26a1060f.jpg  \n",
            "  inflating: train_images/f273460c7.jpg  \n",
            "  inflating: train_images/f2739a7ca.jpg  \n",
            "  inflating: train_images/f274086c4.jpg  \n",
            "  inflating: train_images/f27526824.jpg  \n",
            "  inflating: train_images/f276116b0.jpg  \n",
            "  inflating: train_images/f278ce929.jpg  \n",
            "  inflating: train_images/f27cf9c58.jpg  \n",
            "  inflating: train_images/f27d7bda2.jpg  \n",
            "  inflating: train_images/f27dfe80a.jpg  \n",
            "  inflating: train_images/f2853b5b6.jpg  \n",
            "  inflating: train_images/f294b84ed.jpg  \n",
            "  inflating: train_images/f297f6838.jpg  \n",
            "  inflating: train_images/f298b80d1.jpg  \n",
            "  inflating: train_images/f2991ba3c.jpg  \n",
            "  inflating: train_images/f3045532b.jpg  \n",
            "  inflating: train_images/f30897f72.jpg  \n",
            "  inflating: train_images/f30beded6.jpg  \n",
            "  inflating: train_images/f30cde286.jpg  \n",
            "  inflating: train_images/f32454873.jpg  \n",
            "  inflating: train_images/f327ae983.jpg  \n",
            "  inflating: train_images/f32bb5699.jpg  \n",
            "  inflating: train_images/f33469843.jpg  \n",
            "  inflating: train_images/f338038be.jpg  \n",
            "  inflating: train_images/f33e7a4b3.jpg  \n",
            "  inflating: train_images/f33e7fc05.jpg  \n",
            "  inflating: train_images/f33f47596.jpg  \n",
            "  inflating: train_images/f34262e93.jpg  \n",
            "  inflating: train_images/f348bf060.jpg  \n",
            "  inflating: train_images/f35093ccb.jpg  \n",
            "  inflating: train_images/f357575a6.jpg  \n",
            "  inflating: train_images/f36729b47.jpg  \n",
            "  inflating: train_images/f36acf83d.jpg  \n",
            "  inflating: train_images/f36bc094e.jpg  \n",
            "  inflating: train_images/f36cf3058.jpg  \n",
            "  inflating: train_images/f37003c14.jpg  \n",
            "  inflating: train_images/f375d814f.jpg  \n",
            "  inflating: train_images/f37af29b7.jpg  \n",
            "  inflating: train_images/f37f07255.jpg  \n",
            "  inflating: train_images/f3805c0a8.jpg  \n",
            "  inflating: train_images/f380e604c.jpg  \n",
            "  inflating: train_images/f383950e8.jpg  \n",
            "  inflating: train_images/f3862285d.jpg  \n",
            "  inflating: train_images/f39c2310c.jpg  \n",
            "  inflating: train_images/f400d2c23.jpg  \n",
            "  inflating: train_images/f4077b312.jpg  \n",
            "  inflating: train_images/f40bb2e24.jpg  \n",
            "  inflating: train_images/f40be459c.jpg  \n",
            "  inflating: train_images/f40da0c0d.jpg  \n",
            "  inflating: train_images/f40f6db0e.jpg  \n",
            "  inflating: train_images/f415f1afc.jpg  \n",
            "  inflating: train_images/f41732c94.jpg  \n",
            "  inflating: train_images/f41aa7979.jpg  \n",
            "  inflating: train_images/f41c0d27c.jpg  \n",
            "  inflating: train_images/f4222bcd7.jpg  \n",
            "  inflating: train_images/f4223a623.jpg  \n",
            "  inflating: train_images/f42768e5d.jpg  \n",
            "  inflating: train_images/f4296a45d.jpg  \n",
            "  inflating: train_images/f430ab232.jpg  \n",
            "  inflating: train_images/f438726f9.jpg  \n",
            "  inflating: train_images/f4413e172.jpg  \n",
            "  inflating: train_images/f44229f4b.jpg  \n",
            "  inflating: train_images/f444c57a7.jpg  \n",
            "  inflating: train_images/f4495532f.jpg  \n",
            "  inflating: train_images/f44bc4cf4.jpg  \n",
            "  inflating: train_images/f45b2b2b0.jpg  \n",
            "  inflating: train_images/f45d1ea03.jpg  \n",
            "  inflating: train_images/f45dffa97.jpg  \n",
            "  inflating: train_images/f45ea237c.jpg  \n",
            "  inflating: train_images/f46d86fbe.jpg  \n",
            "  inflating: train_images/f46e63337.jpg  \n",
            "  inflating: train_images/f4743bc1c.jpg  \n",
            "  inflating: train_images/f47f238a3.jpg  \n",
            "  inflating: train_images/f480125b7.jpg  \n",
            "  inflating: train_images/f4818a932.jpg  \n",
            "  inflating: train_images/f4829742c.jpg  \n",
            "  inflating: train_images/f482c3553.jpg  \n",
            "  inflating: train_images/f48988d6a.jpg  \n",
            "  inflating: train_images/f49a67645.jpg  \n",
            "  inflating: train_images/f49e1cc05.jpg  \n",
            "  inflating: train_images/f5018f891.jpg  \n",
            "  inflating: train_images/f503725aa.jpg  \n",
            "  inflating: train_images/f503817dd.jpg  \n",
            "  inflating: train_images/f508bc529.jpg  \n",
            "  inflating: train_images/f50ff910b.jpg  \n",
            "  inflating: train_images/f514de546.jpg  \n",
            "  inflating: train_images/f5222b1b3.jpg  \n",
            "  inflating: train_images/f525de3a6.jpg  \n",
            "  inflating: train_images/f52e7d092.jpg  \n",
            "  inflating: train_images/f539d7bea.jpg  \n",
            "  inflating: train_images/f53a8182a.jpg  \n",
            "  inflating: train_images/f53e75337.jpg  \n",
            "  inflating: train_images/f5479db16.jpg  \n",
            "  inflating: train_images/f54c0a5b9.jpg  \n",
            "  inflating: train_images/f54e38da9.jpg  \n",
            "  inflating: train_images/f5547eecf.jpg  \n",
            "  inflating: train_images/f55acfc8e.jpg  \n",
            "  inflating: train_images/f56a760ba.jpg  \n",
            "  inflating: train_images/f57584fa6.jpg  \n",
            "  inflating: train_images/f576a4e75.jpg  \n",
            "  inflating: train_images/f58e82c13.jpg  \n",
            "  inflating: train_images/f597d415e.jpg  \n",
            "  inflating: train_images/f59f1dddb.jpg  \n",
            "  inflating: train_images/f605d5ede.jpg  \n",
            "  inflating: train_images/f6082de16.jpg  \n",
            "  inflating: train_images/f6091ef22.jpg  \n",
            "  inflating: train_images/f60a5bc2b.jpg  \n",
            "  inflating: train_images/f60b4d359.jpg  \n",
            "  inflating: train_images/f60cdbdcf.jpg  \n",
            "  inflating: train_images/f613991f1.jpg  \n",
            "  inflating: train_images/f618df512.jpg  \n",
            "  inflating: train_images/f61bac8e3.jpg  \n",
            "  inflating: train_images/f62546cde.jpg  \n",
            "  inflating: train_images/f62aedad6.jpg  \n",
            "  inflating: train_images/f62f6fd17.jpg  \n",
            "  inflating: train_images/f63112dc2.jpg  \n",
            "  inflating: train_images/f63292081.jpg  \n",
            "  inflating: train_images/f634eed36.jpg  \n",
            "  inflating: train_images/f63ac602e.jpg  \n",
            "  inflating: train_images/f63e8c97f.jpg  \n",
            "  inflating: train_images/f645abdf0.jpg  \n",
            "  inflating: train_images/f64bb97a6.jpg  \n",
            "  inflating: train_images/f6565a40a.jpg  \n",
            "  inflating: train_images/f65921e5a.jpg  \n",
            "  inflating: train_images/f65c33996.jpg  \n",
            "  inflating: train_images/f65f02fdb.jpg  \n",
            "  inflating: train_images/f66000c01.jpg  \n",
            "  inflating: train_images/f6620bebb.jpg  \n",
            "  inflating: train_images/f66364942.jpg  \n",
            "  inflating: train_images/f66a9a7f3.jpg  \n",
            "  inflating: train_images/f6749d6fe.jpg  \n",
            "  inflating: train_images/f675eb92e.jpg  \n",
            "  inflating: train_images/f676e9d6c.jpg  \n",
            "  inflating: train_images/f67811762.jpg  \n",
            "  inflating: train_images/f67d160b0.jpg  \n",
            "  inflating: train_images/f67e682da.jpg  \n",
            "  inflating: train_images/f68466331.jpg  \n",
            "  inflating: train_images/f68503ec8.jpg  \n",
            "  inflating: train_images/f6854fafc.jpg  \n",
            "  inflating: train_images/f69caf7dd.jpg  \n",
            "  inflating: train_images/f701e3865.jpg  \n",
            "  inflating: train_images/f70d09439.jpg  \n",
            "  inflating: train_images/f70d4ef13.jpg  \n",
            "  inflating: train_images/f710d0506.jpg  \n",
            "  inflating: train_images/f710ff0a1.jpg  \n",
            "  inflating: train_images/f71c37a0f.jpg  \n",
            "  inflating: train_images/f71f9c14b.jpg  \n",
            "  inflating: train_images/f7202186a.jpg  \n",
            "  inflating: train_images/f727d997a.jpg  \n",
            "  inflating: train_images/f72bc3a1a.jpg  \n",
            "  inflating: train_images/f72f8467b.jpg  \n",
            "  inflating: train_images/f735b179a.jpg  \n",
            "  inflating: train_images/f74f33985.jpg  \n",
            "  inflating: train_images/f75fb2c26.jpg  \n",
            "  inflating: train_images/f76f8e798.jpg  \n",
            "  inflating: train_images/f777798f2.jpg  \n",
            "  inflating: train_images/f78601072.jpg  \n",
            "  inflating: train_images/f789a780c.jpg  \n",
            "  inflating: train_images/f789ae3cc.jpg  \n",
            "  inflating: train_images/f78c3b312.jpg  \n",
            "  inflating: train_images/f7911bc46.jpg  \n",
            "  inflating: train_images/f7916450e.jpg  \n",
            "  inflating: train_images/f793f797d.jpg  \n",
            "  inflating: train_images/f7955d77f.jpg  \n",
            "  inflating: train_images/f799d498a.jpg  \n",
            "  inflating: train_images/f79e8cbcb.jpg  \n",
            "  inflating: train_images/f79f9f617.jpg  \n",
            "  inflating: train_images/f7f254746.jpg  \n",
            "  inflating: train_images/f7f48c1a7.jpg  \n",
            "  inflating: train_images/f7fc733a7.jpg  \n",
            "  inflating: train_images/f801dd10b.jpg  \n",
            "  inflating: train_images/f806c9662.jpg  \n",
            "  inflating: train_images/f806ebb39.jpg  \n",
            "  inflating: train_images/f80b4e4e4.jpg  \n",
            "  inflating: train_images/f8107b51d.jpg  \n",
            "  inflating: train_images/f81484e30.jpg  \n",
            "  inflating: train_images/f81b617ec.jpg  \n",
            "  inflating: train_images/f8233dc1a.jpg  \n",
            "  inflating: train_images/f824f4ba1.jpg  \n",
            "  inflating: train_images/f8267203f.jpg  \n",
            "  inflating: train_images/f8332f3fc.jpg  \n",
            "  inflating: train_images/f8347d282.jpg  \n",
            "  inflating: train_images/f836658ad.jpg  \n",
            "  inflating: train_images/f83aa5759.jpg  \n",
            "  inflating: train_images/f83d95885.jpg  \n",
            "  inflating: train_images/f83d9cdc4.jpg  \n",
            "  inflating: train_images/f83ee60b3.jpg  \n",
            "  inflating: train_images/f84697b80.jpg  \n",
            "  inflating: train_images/f848466cb.jpg  \n",
            "  inflating: train_images/f8496f4e2.jpg  \n",
            "  inflating: train_images/f84ae7a4b.jpg  \n",
            "  inflating: train_images/f84f601b2.jpg  \n",
            "  inflating: train_images/f8507e526.jpg  \n",
            "  inflating: train_images/f85515b8b.jpg  \n",
            "  inflating: train_images/f86fc3f01.jpg  \n",
            "  inflating: train_images/f871a3e63.jpg  \n",
            "  inflating: train_images/f877d00ba.jpg  \n",
            "  inflating: train_images/f8800a695.jpg  \n",
            "  inflating: train_images/f88cdab63.jpg  \n",
            "  inflating: train_images/f88d122b9.jpg  \n",
            "  inflating: train_images/f88e7ab6d.jpg  \n",
            "  inflating: train_images/f8952d06e.jpg  \n",
            "  inflating: train_images/f8981ac65.jpg  \n",
            "  inflating: train_images/f89ce1e24.jpg  \n",
            "  inflating: train_images/f8a3b9065.jpg  \n",
            "  inflating: train_images/f8a4b0829.jpg  \n",
            "  inflating: train_images/f8a56ce6e.jpg  \n",
            "  inflating: train_images/f8aa3fcc1.jpg  \n",
            "  inflating: train_images/f8ac50f34.jpg  \n",
            "  inflating: train_images/f8af268c6.jpg  \n",
            "  inflating: train_images/f8bf12de0.jpg  \n",
            "  inflating: train_images/f8c41046b.jpg  \n",
            "  inflating: train_images/f8cdb7672.jpg  \n",
            "  inflating: train_images/f8d0b85ef.jpg  \n",
            "  inflating: train_images/f8dadfeb9.jpg  \n",
            "  inflating: train_images/f8dcae030.jpg  \n",
            "  inflating: train_images/f8e2dbdf4.jpg  \n",
            "  inflating: train_images/f8e3ec37a.jpg  \n",
            "  inflating: train_images/f8eb9b938.jpg  \n",
            "  inflating: train_images/f8f2e908e.jpg  \n",
            "  inflating: train_images/f8f3a1eb2.jpg  \n",
            "  inflating: train_images/f8f942505.jpg  \n",
            "  inflating: train_images/f8fe4e3d9.jpg  \n",
            "  inflating: train_images/f8ff8457a.jpg  \n",
            "  inflating: train_images/f901632bf.jpg  \n",
            "  inflating: train_images/f910b7857.jpg  \n",
            "  inflating: train_images/f917bca00.jpg  \n",
            "  inflating: train_images/f91d56c49.jpg  \n",
            "  inflating: train_images/f92794f0a.jpg  \n",
            "  inflating: train_images/f928cdeea.jpg  \n",
            "  inflating: train_images/f939530e3.jpg  \n",
            "  inflating: train_images/f93b7dc02.jpg  \n",
            "  inflating: train_images/f94569eb5.jpg  \n",
            "  inflating: train_images/f945df120.jpg  \n",
            "  inflating: train_images/f9486d8fd.jpg  \n",
            "  inflating: train_images/f950b713a.jpg  \n",
            "  inflating: train_images/f95284047.jpg  \n",
            "  inflating: train_images/f95867a2b.jpg  \n",
            "  inflating: train_images/f95d6f436.jpg  \n",
            "  inflating: train_images/f95e24d0a.jpg  \n",
            "  inflating: train_images/f96003fac.jpg  \n",
            "  inflating: train_images/f965e553b.jpg  \n",
            "  inflating: train_images/f9668c7cd.jpg  \n",
            "  inflating: train_images/f9682bef7.jpg  \n",
            "  inflating: train_images/f9683d4b0.jpg  \n",
            "  inflating: train_images/f96b502c6.jpg  \n",
            "  inflating: train_images/f96b6802d.jpg  \n",
            "  inflating: train_images/f97db2626.jpg  \n",
            "  inflating: train_images/f98a8ae54.jpg  \n",
            "  inflating: train_images/f98ac3ca8.jpg  \n",
            "  inflating: train_images/f98ddb64d.jpg  \n",
            "  inflating: train_images/f991a6a9e.jpg  \n",
            "  inflating: train_images/f99b7c8aa.jpg  \n",
            "  inflating: train_images/f9a30423e.jpg  \n",
            "  inflating: train_images/f9a93b750.jpg  \n",
            "  inflating: train_images/f9b337a42.jpg  \n",
            "  inflating: train_images/f9b806612.jpg  \n",
            "  inflating: train_images/f9b98ab64.jpg  \n",
            "  inflating: train_images/f9d0f27a0.jpg  \n",
            "  inflating: train_images/f9d912044.jpg  \n",
            "  inflating: train_images/f9da1e38a.jpg  \n",
            "  inflating: train_images/f9db48c10.jpg  \n",
            "  inflating: train_images/fa08fa8c5.jpg  \n",
            "  inflating: train_images/fa0a430a6.jpg  \n",
            "  inflating: train_images/fa130006f.jpg  \n",
            "  inflating: train_images/fa154606d.jpg  \n",
            "  inflating: train_images/fa17c01fa.jpg  \n",
            "  inflating: train_images/fa241dde2.jpg  \n",
            "  inflating: train_images/fa342395f.jpg  \n",
            "  inflating: train_images/fa347a114.jpg  \n",
            "  inflating: train_images/fa3828a07.jpg  \n",
            "  inflating: train_images/fa3a68a38.jpg  \n",
            "  inflating: train_images/fa434abec.jpg  \n",
            "  inflating: train_images/fa492c084.jpg  \n",
            "  inflating: train_images/fa4fe42af.jpg  \n",
            "  inflating: train_images/fa52d8ecd.jpg  \n",
            "  inflating: train_images/fa564380a.jpg  \n",
            "  inflating: train_images/fa6567637.jpg  \n",
            "  inflating: train_images/fa6905f76.jpg  \n",
            "  inflating: train_images/fa6a00996.jpg  \n",
            "  inflating: train_images/fa6a65776.jpg  \n",
            "  inflating: train_images/fa71602c6.jpg  \n",
            "  inflating: train_images/fa764f687.jpg  \n",
            "  inflating: train_images/fa7c44dbf.jpg  \n",
            "  inflating: train_images/fa80cdac8.jpg  \n",
            "  inflating: train_images/fa8f73d4b.jpg  \n",
            "  inflating: train_images/fa9a5da40.jpg  \n",
            "  inflating: train_images/fa9c1b2e4.jpg  \n",
            "  inflating: train_images/faa053217.jpg  \n",
            "  inflating: train_images/faa0cdf84.jpg  \n",
            "  inflating: train_images/faa1000af.jpg  \n",
            "  inflating: train_images/faa4010e1.jpg  \n",
            "  inflating: train_images/faa73f1d9.jpg  \n",
            "  inflating: train_images/faa80e2e8.jpg  \n",
            "  inflating: train_images/faab4b759.jpg  \n",
            "  inflating: train_images/fab50d91a.jpg  \n",
            "  inflating: train_images/fab8b357c.jpg  \n",
            "  inflating: train_images/fabd4faef.jpg  \n",
            "  inflating: train_images/fac3481a4.jpg  \n",
            "  inflating: train_images/fac87dc98.jpg  \n",
            "  inflating: train_images/fac91988f.jpg  \n",
            "  inflating: train_images/fac9867d0.jpg  \n",
            "  inflating: train_images/fac9c2cb8.jpg  \n",
            "  inflating: train_images/facc4ddc7.jpg  \n",
            "  inflating: train_images/facfab806.jpg  \n",
            "  inflating: train_images/fad2dd8ee.jpg  \n",
            "  inflating: train_images/fad32acdd.jpg  \n",
            "  inflating: train_images/fadccb348.jpg  \n",
            "  inflating: train_images/fae50c768.jpg  \n",
            "  inflating: train_images/faea44200.jpg  \n",
            "  inflating: train_images/faf0dc448.jpg  \n",
            "  inflating: train_images/fafd76f70.jpg  \n",
            "  inflating: train_images/fb0434dea.jpg  \n",
            "  inflating: train_images/fb18f4f82.jpg  \n",
            "  inflating: train_images/fb1a7bc67.jpg  \n",
            "  inflating: train_images/fb208afce.jpg  \n",
            "  inflating: train_images/fb217517b.jpg  \n",
            "  inflating: train_images/fb22747f2.jpg  \n",
            "  inflating: train_images/fb227f89f.jpg  \n",
            "  inflating: train_images/fb23968c0.jpg  \n",
            "  inflating: train_images/fb252eb78.jpg  \n",
            "  inflating: train_images/fb2c208eb.jpg  \n",
            "  inflating: train_images/fb2d75aea.jpg  \n",
            "  inflating: train_images/fb3273735.jpg  \n",
            "  inflating: train_images/fb352c185.jpg  \n",
            "  inflating: train_images/fb357de4d.jpg  \n",
            "  inflating: train_images/fb36b84e7.jpg  \n",
            "  inflating: train_images/fb37207e8.jpg  \n",
            "  inflating: train_images/fb38bb7bf.jpg  \n",
            "  inflating: train_images/fb3a54000.jpg  \n",
            "  inflating: train_images/fb49750e4.jpg  \n",
            "  inflating: train_images/fb4ad0679.jpg  \n",
            "  inflating: train_images/fb565bc91.jpg  \n",
            "  inflating: train_images/fb6666769.jpg  \n",
            "  inflating: train_images/fb6a70917.jpg  \n",
            "  inflating: train_images/fb6e418f2.jpg  \n",
            "  inflating: train_images/fb6ed1e5a.jpg  \n",
            "  inflating: train_images/fb714819e.jpg  \n",
            "  inflating: train_images/fb7812d7c.jpg  \n",
            "  inflating: train_images/fb8a8c8be.jpg  \n",
            "  inflating: train_images/fb8c8f732.jpg  \n",
            "  inflating: train_images/fb9558035.jpg  \n",
            "  inflating: train_images/fb9a07c8f.jpg  \n",
            "  inflating: train_images/fb9bed1bb.jpg  \n",
            "  inflating: train_images/fbab82e58.jpg  \n",
            "  inflating: train_images/fbadf780f.jpg  \n",
            "  inflating: train_images/fbb44ab31.jpg  \n",
            "  inflating: train_images/fbbb8f8b2.jpg  \n",
            "  inflating: train_images/fbbd2ed0d.jpg  \n",
            "  inflating: train_images/fbbecd1d9.jpg  \n",
            "  inflating: train_images/fbc970f36.jpg  \n",
            "  inflating: train_images/fbc97ac61.jpg  \n",
            "  inflating: train_images/fbcb3df55.jpg  \n",
            "  inflating: train_images/fbccd24e3.jpg  \n",
            "  inflating: train_images/fbce1e845.jpg  \n",
            "  inflating: train_images/fbce992e6.jpg  \n",
            "  inflating: train_images/fbd219354.jpg  \n",
            "  inflating: train_images/fbdc2daae.jpg  \n",
            "  inflating: train_images/fbdde63d5.jpg  \n",
            "  inflating: train_images/fbe24003b.jpg  \n",
            "  inflating: train_images/fbedb4788.jpg  \n",
            "  inflating: train_images/fbf0bf047.jpg  \n",
            "  inflating: train_images/fbf282a60.jpg  \n",
            "  inflating: train_images/fbf7ac43e.jpg  \n",
            "  inflating: train_images/fc0541a53.jpg  \n",
            "  inflating: train_images/fc0d2f65e.jpg  \n",
            "  inflating: train_images/fc113cb7e.jpg  \n",
            "  inflating: train_images/fc1e573df.jpg  \n",
            "  inflating: train_images/fc1ee52dc.jpg  \n",
            "  inflating: train_images/fc20db1e0.jpg  \n",
            "  inflating: train_images/fc230eb3c.jpg  \n",
            "  inflating: train_images/fc23f981b.jpg  \n",
            "  inflating: train_images/fc2968239.jpg  \n",
            "  inflating: train_images/fc2d2d29e.jpg  \n",
            "  inflating: train_images/fc2e9c877.jpg  \n",
            "  inflating: train_images/fc3151ab5.jpg  \n",
            "  inflating: train_images/fc37492b6.jpg  \n",
            "  inflating: train_images/fc46a5d97.jpg  \n",
            "  inflating: train_images/fc477f3c8.jpg  \n",
            "  inflating: train_images/fc4ef4356.jpg  \n",
            "  inflating: train_images/fc4f997c5.jpg  \n",
            "  inflating: train_images/fc55baa4f.jpg  \n",
            "  inflating: train_images/fc5cb6d9e.jpg  \n",
            "  inflating: train_images/fc5e5979c.jpg  \n",
            "  inflating: train_images/fc62ebb8b.jpg  \n",
            "  inflating: train_images/fc6cbd71b.jpg  \n",
            "  inflating: train_images/fc70bf091.jpg  \n",
            "  inflating: train_images/fc8cb11db.jpg  \n",
            "  inflating: train_images/fc921f66a.jpg  \n",
            "  inflating: train_images/fc937f4b5.jpg  \n",
            "  inflating: train_images/fc9557838.jpg  \n",
            "  inflating: train_images/fc9f88417.jpg  \n",
            "  inflating: train_images/fca5cbc24.jpg  \n",
            "  inflating: train_images/fcacd299d.jpg  \n",
            "  inflating: train_images/fcb1f2469.jpg  \n",
            "  inflating: train_images/fcb25f2ec.jpg  \n",
            "  inflating: train_images/fcbe0914f.jpg  \n",
            "  inflating: train_images/fcc15caae.jpg  \n",
            "  inflating: train_images/fcc7c9c3c.jpg  \n",
            "  inflating: train_images/fcce5b9cc.jpg  \n",
            "  inflating: train_images/fcd374576.jpg  \n",
            "  inflating: train_images/fcd874407.jpg  \n",
            "  inflating: train_images/fcddbcbc0.jpg  \n",
            "  inflating: train_images/fcdec6c2f.jpg  \n",
            "  inflating: train_images/fcdeccead.jpg  \n",
            "  inflating: train_images/fcded3d29.jpg  \n",
            "  inflating: train_images/fcdfdbf64.jpg  \n",
            "  inflating: train_images/fce971b43.jpg  \n",
            "  inflating: train_images/fcea4a36f.jpg  \n",
            "  inflating: train_images/fcf0d3eeb.jpg  \n",
            "  inflating: train_images/fcf5cf8e2.jpg  \n",
            "  inflating: train_images/fcfffb388.jpg  \n",
            "  inflating: train_images/fd02408b4.jpg  \n",
            "  inflating: train_images/fd0c52161.jpg  \n",
            "  inflating: train_images/fd14dd6dc.jpg  \n",
            "  inflating: train_images/fd183310f.jpg  \n",
            "  inflating: train_images/fd184c14c.jpg  \n",
            "  inflating: train_images/fd1c572bb.jpg  \n",
            "  inflating: train_images/fd2094971.jpg  \n",
            "  inflating: train_images/fd26ab9ad.jpg  \n",
            "  inflating: train_images/fd297963a.jpg  \n",
            "  inflating: train_images/fd2a53b9a.jpg  \n",
            "  inflating: train_images/fd2f7b4f4.jpg  \n",
            "  inflating: train_images/fd319a9a3.jpg  \n",
            "  inflating: train_images/fd32f8ad3.jpg  \n",
            "  inflating: train_images/fd3afa979.jpg  \n",
            "  inflating: train_images/fd3dd0ae2.jpg  \n",
            "  inflating: train_images/fd4b9e7c0.jpg  \n",
            "  inflating: train_images/fd5de08ea.jpg  \n",
            "  inflating: train_images/fd6208bbc.jpg  \n",
            "  inflating: train_images/fd64f3fd7.jpg  \n",
            "  inflating: train_images/fd76d8b3d.jpg  \n",
            "  inflating: train_images/fd7b70c7b.jpg  \n",
            "  inflating: train_images/fd81ef9be.jpg  \n",
            "  inflating: train_images/fd83f3489.jpg  \n",
            "  inflating: train_images/fd85c439e.jpg  \n",
            "  inflating: train_images/fd86d4201.jpg  \n",
            "  inflating: train_images/fd88ec534.jpg  \n",
            "  inflating: train_images/fd8e2675c.jpg  \n",
            "  inflating: train_images/fd9b1a987.jpg  \n",
            "  inflating: train_images/fda1a539d.jpg  \n",
            "  inflating: train_images/fda40e618.jpg  \n",
            "  inflating: train_images/fda56a365.jpg  \n",
            "  inflating: train_images/fda720bac.jpg  \n",
            "  inflating: train_images/fdaaaf9d9.jpg  \n",
            "  inflating: train_images/fdab86eb7.jpg  \n",
            "  inflating: train_images/fdabe52ee.jpg  \n",
            "  inflating: train_images/fdac6eb7b.jpg  \n",
            "  inflating: train_images/fdb58f4ec.jpg  \n",
            "  inflating: train_images/fdb5ae9d4.jpg  \n",
            "  inflating: train_images/fdb705792.jpg  \n",
            "  inflating: train_images/fdb71f007.jpg  \n",
            "  inflating: train_images/fdb7c0397.jpg  \n",
            "  inflating: train_images/fdb8a4e70.jpg  \n",
            "  inflating: train_images/fdbae58d2.jpg  \n",
            "  inflating: train_images/fdc7bc599.jpg  \n",
            "  inflating: train_images/fdc83849e.jpg  \n",
            "  inflating: train_images/fdc84bdc4.jpg  \n",
            "  inflating: train_images/fdcaa4692.jpg  \n",
            "  inflating: train_images/fdd363326.jpg  \n",
            "  inflating: train_images/fdd592bf5.jpg  \n",
            "  inflating: train_images/fdd63753f.jpg  \n",
            "  inflating: train_images/fde8b6a20.jpg  \n",
            "  inflating: train_images/fde8d37fc.jpg  \n",
            "  inflating: train_images/fdefeca1f.jpg  \n",
            "  inflating: train_images/fdf0d8b7a.jpg  \n",
            "  inflating: train_images/fdf3a16fc.jpg  \n",
            "  inflating: train_images/fdf6a925f.jpg  \n",
            "  inflating: train_images/fdf8a8fda.jpg  \n",
            "  inflating: train_images/fdfbe4d02.jpg  \n",
            "  inflating: train_images/fe01b0ce0.jpg  \n",
            "  inflating: train_images/fe123ce40.jpg  \n",
            "  inflating: train_images/fe1f25a02.jpg  \n",
            "  inflating: train_images/fe2136368.jpg  \n",
            "  inflating: train_images/fe21a795a.jpg  \n",
            "  inflating: train_images/fe2234ba6.jpg  \n",
            "  inflating: train_images/fe2637bd9.jpg  \n",
            "  inflating: train_images/fe335d9b8.jpg  \n",
            "  inflating: train_images/fe3c40c86.jpg  \n",
            "  inflating: train_images/fe44d3c92.jpg  \n",
            "  inflating: train_images/fe471b6c5.jpg  \n",
            "  inflating: train_images/fe56055d0.jpg  \n",
            "  inflating: train_images/fe5f1f766.jpg  \n",
            "  inflating: train_images/fe6065792.jpg  \n",
            "  inflating: train_images/fe618d8ad.jpg  \n",
            "  inflating: train_images/fe65bce69.jpg  \n",
            "  inflating: train_images/fe689cf0a.jpg  \n",
            "  inflating: train_images/fe6f8e502.jpg  \n",
            "  inflating: train_images/fe7459fe6.jpg  \n",
            "  inflating: train_images/fe793c552.jpg  \n",
            "  inflating: train_images/fe7b99496.jpg  \n",
            "  inflating: train_images/fe849b86c.jpg  \n",
            "  inflating: train_images/fe8e137c0.jpg  \n",
            "  inflating: train_images/fe90516f3.jpg  \n",
            "  inflating: train_images/fe96a088d.jpg  \n",
            "  inflating: train_images/fe9f07422.jpg  \n",
            "  inflating: train_images/fea2f6ad2.jpg  \n",
            "  inflating: train_images/fea3da755.jpg  \n",
            "  inflating: train_images/fea4c4feb.jpg  \n",
            "  inflating: train_images/fea8e46ad.jpg  \n",
            "  inflating: train_images/feababedf.jpg  \n",
            "  inflating: train_images/feb2cfa94.jpg  \n",
            "  inflating: train_images/feb7f851f.jpg  \n",
            "  inflating: train_images/feb959e50.jpg  \n",
            "  inflating: train_images/febaaaaa7.jpg  \n",
            "  inflating: train_images/febd24f9a.jpg  \n",
            "  inflating: train_images/fec35dc6d.jpg  \n",
            "  inflating: train_images/fec4b10d0.jpg  \n",
            "  inflating: train_images/fec666a05.jpg  \n",
            "  inflating: train_images/fec86da3c.jpg  \n",
            "  inflating: train_images/fed07ccf3.jpg  \n",
            "  inflating: train_images/fed23a483.jpg  \n",
            "  inflating: train_images/fee93875b.jpg  \n",
            "  inflating: train_images/feebccc73.jpg  \n",
            "  inflating: train_images/feebe80d4.jpg  \n",
            "  inflating: train_images/feec56162.jpg  \n",
            "  inflating: train_images/fef3329b7.jpg  \n",
            "  inflating: train_images/fef40d085.jpg  \n",
            "  inflating: train_images/ff001adfe.jpg  \n",
            "  inflating: train_images/ff09babee.jpg  \n",
            "  inflating: train_images/ff1020719.jpg  \n",
            "  inflating: train_images/ff18dded1.jpg  \n",
            "  inflating: train_images/ff27b4b1b.jpg  \n",
            "  inflating: train_images/ff300484e.jpg  \n",
            "  inflating: train_images/ff35c950a.jpg  \n",
            "  inflating: train_images/ff3bac947.jpg  \n",
            "  inflating: train_images/ff44fa556.jpg  \n",
            "  inflating: train_images/ff4ddccf9.jpg  \n",
            "  inflating: train_images/ff52f9fe2.jpg  \n",
            "  inflating: train_images/ff5483763.jpg  \n",
            "  inflating: train_images/ff5590fbe.jpg  \n",
            "  inflating: train_images/ff5c7f868.jpg  \n",
            "  inflating: train_images/ff6bfada2.jpg  \n",
            "  inflating: train_images/ff6cc90ca.jpg  \n",
            "  inflating: train_images/ff6e35e0a.jpg  \n",
            "  inflating: train_images/ff6ec63cf.jpg  \n",
            "  inflating: train_images/ff6f1a404.jpg  \n",
            "  inflating: train_images/ff73c8e76.jpg  \n",
            "  inflating: train_images/ff882d69e.jpg  \n",
            "  inflating: train_images/ff8c44174.jpg  \n",
            "  inflating: train_images/ff933e271.jpg  \n",
            "  inflating: train_images/ff96da52e.jpg  \n",
            "  inflating: train_images/ff96dfa95.jpg  \n",
            "  inflating: train_images/ff9923932.jpg  \n",
            "  inflating: train_images/ff9d46e95.jpg  \n",
            "  inflating: train_images/ffa55c731.jpg  \n",
            "  inflating: train_images/ffa8210a1.jpg  \n",
            "  inflating: train_images/ffaa05016.jpg  \n",
            "  inflating: train_images/ffb48ee43.jpg  \n",
            "  inflating: train_images/ffbd081d5.jpg  \n",
            "  inflating: train_images/ffc9fdf70.jpg  \n",
            "  inflating: train_images/ffcf72ecf.jpg  \n",
            "  inflating: train_images/ffd0223a7.jpg  \n",
            "  inflating: train_images/ffe93442c.jpg  \n",
            "  inflating: train_images/fff0295e1.jpg  \n",
            "  inflating: train_images/fff02e9c5.jpg  \n",
            "  inflating: train_images/fffe98443.jpg  \n",
            "  inflating: train_images/ffff4eaa8.jpg  \n",
            "  inflating: train_images/ffffd67df.jpg  \n"
          ]
        }
      ]
    },
    {
      "cell_type": "markdown",
      "source": [
        "**Делаем преобразование фотографий к формату 120х120**"
      ],
      "metadata": {
        "id": "GR-3HTEO49ee"
      },
      "id": "GR-3HTEO49ee"
    },
    {
      "cell_type": "code",
      "execution_count": 17,
      "id": "ba3ddab1",
      "metadata": {
        "execution": {
          "iopub.execute_input": "2023-12-27T07:58:33.590572Z",
          "iopub.status.busy": "2023-12-27T07:58:33.589355Z",
          "iopub.status.idle": "2023-12-27T08:00:57.051069Z",
          "shell.execute_reply": "2023-12-27T08:00:57.049743Z"
        },
        "id": "ba3ddab1",
        "outputId": "ba4dbfc0-b339-4f84-c1b8-f421101ecaa5",
        "papermill": {
          "duration": 143.487801,
          "end_time": "2023-12-27T08:00:57.054617",
          "exception": false,
          "start_time": "2023-12-27T07:58:33.566816",
          "status": "completed"
        },
        "tags": [],
        "colab": {
          "base_uri": "https://localhost:8080/"
        }
      },
      "outputs": [
        {
          "output_type": "stream",
          "name": "stderr",
          "text": [
            "100%|██████████| 7095/7095 [00:04<00:00, 1573.77it/s]\n"
          ]
        }
      ],
      "source": [
        "l1=[]\n",
        "l2=[]\n",
        "for img,ClassId,EncodedPixels in tqdm(data.values):\n",
        "    try:\n",
        "      image=cv2.imread(\"train_images/{}\".format(img),cv2.IMREAD_COLOR)\n",
        "      image = cv2.resize(image,(120,120))\n",
        "      l1.append(image)\n",
        "      l2.append(ClassId)\n",
        "    except:\n",
        "      continue\n",
        "\n",
        "\n",
        "\n"
      ]
    },
    {
      "cell_type": "code",
      "source": [
        "l1[0]"
      ],
      "metadata": {
        "colab": {
          "base_uri": "https://localhost:8080/",
          "height": 160
        },
        "id": "i74URcRWV1Qu",
        "outputId": "3389c2ae-e94e-4849-9ca9-0e931d07b50f"
      },
      "id": "i74URcRWV1Qu",
      "execution_count": 18,
      "outputs": [
        {
          "output_type": "execute_result",
          "data": {
            "text/plain": [
              "array([[[  2,   2,   2],\n",
              "        [  1,   1,   1],\n",
              "        [  2,   2,   2],\n",
              "        ...,\n",
              "        [ 74,  74,  74],\n",
              "        [ 60,  60,  60],\n",
              "        [ 64,  64,  64]],\n",
              "\n",
              "       [[  2,   2,   2],\n",
              "        [  1,   1,   1],\n",
              "        [  2,   2,   2],\n",
              "        ...,\n",
              "        [ 73,  73,  73],\n",
              "        [ 66,  66,  66],\n",
              "        [ 65,  65,  65]],\n",
              "\n",
              "       [[  1,   1,   1],\n",
              "        [  1,   1,   1],\n",
              "        [  2,   2,   2],\n",
              "        ...,\n",
              "        [ 75,  75,  75],\n",
              "        [ 65,  65,  65],\n",
              "        [ 61,  61,  61]],\n",
              "\n",
              "       ...,\n",
              "\n",
              "       [[  1,   1,   1],\n",
              "        [  1,   1,   1],\n",
              "        [  1,   1,   1],\n",
              "        ...,\n",
              "        [114, 114, 114],\n",
              "        [114, 114, 114],\n",
              "        [105, 105, 105]],\n",
              "\n",
              "       [[  1,   1,   1],\n",
              "        [  1,   1,   1],\n",
              "        [  1,   1,   1],\n",
              "        ...,\n",
              "        [112, 112, 112],\n",
              "        [109, 109, 109],\n",
              "        [108, 108, 108]],\n",
              "\n",
              "       [[  1,   1,   1],\n",
              "        [  1,   1,   1],\n",
              "        [  1,   1,   1],\n",
              "        ...,\n",
              "        [117, 117, 117],\n",
              "        [109, 109, 109],\n",
              "        [109, 109, 109]]], dtype=uint8)"
            ],
            "text/html": [
              "<style>\n",
              "      .ndarray_repr .ndarray_raw_data {\n",
              "        display: none;\n",
              "      }\n",
              "      .ndarray_repr.show_array .ndarray_raw_data {\n",
              "        display: block;\n",
              "      }\n",
              "      .ndarray_repr.show_array .ndarray_image_preview {\n",
              "        display: none;\n",
              "      }\n",
              "      </style>\n",
              "      <div id=\"id-f60aa7be-8aba-49ff-b2cf-0794a6a1cb8f\" class=\"ndarray_repr\"><pre>ndarray (120, 120, 3) <button style=\"padding: 0 2px;\">show data</button></pre><img src=\"data:image/png;base64,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\" class=\"ndarray_image_preview\" /><pre class=\"ndarray_raw_data\">array([[[  2,   2,   2],\n",
              "        [  1,   1,   1],\n",
              "        [  2,   2,   2],\n",
              "        ...,\n",
              "        [ 74,  74,  74],\n",
              "        [ 60,  60,  60],\n",
              "        [ 64,  64,  64]],\n",
              "\n",
              "       [[  2,   2,   2],\n",
              "        [  1,   1,   1],\n",
              "        [  2,   2,   2],\n",
              "        ...,\n",
              "        [ 73,  73,  73],\n",
              "        [ 66,  66,  66],\n",
              "        [ 65,  65,  65]],\n",
              "\n",
              "       [[  1,   1,   1],\n",
              "        [  1,   1,   1],\n",
              "        [  2,   2,   2],\n",
              "        ...,\n",
              "        [ 75,  75,  75],\n",
              "        [ 65,  65,  65],\n",
              "        [ 61,  61,  61]],\n",
              "\n",
              "       ...,\n",
              "\n",
              "       [[  1,   1,   1],\n",
              "        [  1,   1,   1],\n",
              "        [  1,   1,   1],\n",
              "        ...,\n",
              "        [114, 114, 114],\n",
              "        [114, 114, 114],\n",
              "        [105, 105, 105]],\n",
              "\n",
              "       [[  1,   1,   1],\n",
              "        [  1,   1,   1],\n",
              "        [  1,   1,   1],\n",
              "        ...,\n",
              "        [112, 112, 112],\n",
              "        [109, 109, 109],\n",
              "        [108, 108, 108]],\n",
              "\n",
              "       [[  1,   1,   1],\n",
              "        [  1,   1,   1],\n",
              "        [  1,   1,   1],\n",
              "        ...,\n",
              "        [117, 117, 117],\n",
              "        [109, 109, 109],\n",
              "        [109, 109, 109]]], dtype=uint8)</pre></div><script>\n",
              "      (() => {\n",
              "      const titles = ['show data', 'hide data'];\n",
              "      let index = 0\n",
              "      document.querySelector('#id-f60aa7be-8aba-49ff-b2cf-0794a6a1cb8f button').onclick = (e) => {\n",
              "        document.querySelector('#id-f60aa7be-8aba-49ff-b2cf-0794a6a1cb8f').classList.toggle('show_array');\n",
              "        index = (++index) % 2;\n",
              "        document.querySelector('#id-f60aa7be-8aba-49ff-b2cf-0794a6a1cb8f button').textContent = titles[index];\n",
              "        e.preventDefault();\n",
              "        e.stopPropagation();\n",
              "      }\n",
              "      })();\n",
              "    </script>"
            ]
          },
          "metadata": {},
          "execution_count": 18
        }
      ]
    },
    {
      "cell_type": "code",
      "source": [
        "len(l1)"
      ],
      "metadata": {
        "colab": {
          "base_uri": "https://localhost:8080/"
        },
        "id": "ME6YazOYVwVc",
        "outputId": "f457a583-38bf-4cb7-84e8-7afeff19618d"
      },
      "id": "ME6YazOYVwVc",
      "execution_count": 19,
      "outputs": [
        {
          "output_type": "execute_result",
          "data": {
            "text/plain": [
              "351"
            ]
          },
          "metadata": {},
          "execution_count": 19
        }
      ]
    },
    {
      "cell_type": "markdown",
      "id": "df14915d",
      "metadata": {
        "id": "df14915d",
        "papermill": {
          "duration": 0.132188,
          "end_time": "2023-12-27T08:00:57.319307",
          "exception": false,
          "start_time": "2023-12-27T08:00:57.187119",
          "status": "completed"
        },
        "tags": []
      },
      "source": [
        "Проверка изображений случайной стали, чтобы проверить, дефектна ли она или нет."
      ]
    },
    {
      "cell_type": "code",
      "execution_count": 20,
      "id": "5ff4bb36",
      "metadata": {
        "execution": {
          "iopub.execute_input": "2023-12-27T08:00:57.585112Z",
          "iopub.status.busy": "2023-12-27T08:00:57.584165Z",
          "iopub.status.idle": "2023-12-27T08:00:57.881532Z",
          "shell.execute_reply": "2023-12-27T08:00:57.879769Z"
        },
        "id": "5ff4bb36",
        "outputId": "5d19d2fe-843e-4bc2-8f54-ec65ef9f34ac",
        "papermill": {
          "duration": 0.43324,
          "end_time": "2023-12-27T08:00:57.884590",
          "exception": false,
          "start_time": "2023-12-27T08:00:57.451350",
          "status": "completed"
        },
        "tags": [],
        "colab": {
          "base_uri": "https://localhost:8080/",
          "height": 452
        }
      },
      "outputs": [
        {
          "output_type": "execute_result",
          "data": {
            "text/plain": [
              "<matplotlib.image.AxesImage at 0x7bed66b32f20>"
            ]
          },
          "metadata": {},
          "execution_count": 20
        },
        {
          "output_type": "display_data",
          "data": {
            "text/plain": [
              "<Figure size 640x480 with 1 Axes>"
            ],
            "image/png": "[encoded data removed]"
          },
          "metadata": {}
        }
      ],
      "source": [
        "i = 15\n",
        "plt.imshow(l1[i])"
      ]
    },
    {
      "cell_type": "code",
      "execution_count": 21,
      "id": "9c338730",
      "metadata": {
        "execution": {
          "iopub.execute_input": "2023-12-27T08:00:58.157772Z",
          "iopub.status.busy": "2023-12-27T08:00:58.157022Z",
          "iopub.status.idle": "2023-12-27T08:00:58.449520Z",
          "shell.execute_reply": "2023-12-27T08:00:58.448051Z"
        },
        "id": "9c338730",
        "outputId": "a3240853-d600-4dc7-f485-13d3d735bf29",
        "papermill": {
          "duration": 0.431639,
          "end_time": "2023-12-27T08:00:58.452414",
          "exception": false,
          "start_time": "2023-12-27T08:00:58.020775",
          "status": "completed"
        },
        "tags": [],
        "colab": {
          "base_uri": "https://localhost:8080/",
          "height": 452
        }
      },
      "outputs": [
        {
          "output_type": "execute_result",
          "data": {
            "text/plain": [
              "<matplotlib.image.AxesImage at 0x7bed65fcc610>"
            ]
          },
          "metadata": {},
          "execution_count": 21
        },
        {
          "output_type": "display_data",
          "data": {
            "text/plain": [
              "<Figure size 640x480 with 1 Axes>"
            ],
            "image/png": "[encoded data removed]"
          },
          "metadata": {}
        }
      ],
      "source": [
        "i = 16\n",
        "plt.imshow(l1[i])"
      ]
    },
    {
      "cell_type": "code",
      "execution_count": 22,
      "id": "45823572",
      "metadata": {
        "execution": {
          "iopub.execute_input": "2023-12-27T08:00:58.730080Z",
          "iopub.status.busy": "2023-12-27T08:00:58.729639Z",
          "iopub.status.idle": "2023-12-27T08:00:59.042311Z",
          "shell.execute_reply": "2023-12-27T08:00:59.040805Z"
        },
        "id": "45823572",
        "outputId": "c17011a6-9605-41f1-ba13-eee6106fb938",
        "papermill": {
          "duration": 0.451892,
          "end_time": "2023-12-27T08:00:59.045280",
          "exception": false,
          "start_time": "2023-12-27T08:00:58.593388",
          "status": "completed"
        },
        "tags": [],
        "colab": {
          "base_uri": "https://localhost:8080/",
          "height": 452
        }
      },
      "outputs": [
        {
          "output_type": "execute_result",
          "data": {
            "text/plain": [
              "<matplotlib.image.AxesImage at 0x7bed66bd5480>"
            ]
          },
          "metadata": {},
          "execution_count": 22
        },
        {
          "output_type": "display_data",
          "data": {
            "text/plain": [
              "<Figure size 640x480 with 1 Axes>"
            ],
            "image/png": "[encoded data removed]"
          },
          "metadata": {}
        }
      ],
      "source": [
        "i = 90\n",
        "plt.imshow(l1[i])"
      ]
    },
    {
      "cell_type": "markdown",
      "id": "a6f435aa",
      "metadata": {
        "id": "a6f435aa",
        "papermill": {
          "duration": 0.136756,
          "end_time": "2023-12-27T08:00:59.323882",
          "exception": false,
          "start_time": "2023-12-27T08:00:59.187126",
          "status": "completed"
        },
        "tags": []
      },
      "source": [
        "Выполним one-hot кодировку"
      ]
    },
    {
      "cell_type": "code",
      "execution_count": 23,
      "id": "81f124da",
      "metadata": {
        "execution": {
          "iopub.execute_input": "2023-12-27T08:00:59.599601Z",
          "iopub.status.busy": "2023-12-27T08:00:59.599181Z",
          "iopub.status.idle": "2023-12-27T08:01:00.890780Z",
          "shell.execute_reply": "2023-12-27T08:01:00.889348Z"
        },
        "id": "81f124da",
        "papermill": {
          "duration": 1.43355,
          "end_time": "2023-12-27T08:01:00.894914",
          "exception": false,
          "start_time": "2023-12-27T08:00:59.461364",
          "status": "completed"
        },
        "tags": []
      },
      "outputs": [],
      "source": [
        "encoder = LabelEncoder()\n",
        "\n",
        "X= np.array(l1)\n",
        "X = X/255\n",
        "\n",
        "y = encoder.fit_transform(l2)\n",
        "y = np.array(y)\n"
      ]
    },
    {
      "cell_type": "code",
      "execution_count": 26,
      "id": "93b1d0a5",
      "metadata": {
        "execution": {
          "iopub.execute_input": "2023-12-27T08:01:01.169527Z",
          "iopub.status.busy": "2023-12-27T08:01:01.169035Z",
          "iopub.status.idle": "2023-12-27T08:01:01.177267Z",
          "shell.execute_reply": "2023-12-27T08:01:01.175761Z"
        },
        "id": "93b1d0a5",
        "outputId": "0a4c7017-b899-495f-c614-debb47080179",
        "papermill": {
          "duration": 0.14769,
          "end_time": "2023-12-27T08:01:01.180002",
          "exception": false,
          "start_time": "2023-12-27T08:01:01.032312",
          "status": "completed"
        },
        "tags": [],
        "colab": {
          "base_uri": "https://localhost:8080/"
        }
      },
      "outputs": [
        {
          "output_type": "execute_result",
          "data": {
            "text/plain": [
              "(351, 120, 120, 3)"
            ]
          },
          "metadata": {},
          "execution_count": 26
        }
      ],
      "source": [
        "X.shape"
      ]
    },
    {
      "cell_type": "code",
      "execution_count": 27,
      "id": "98c090df",
      "metadata": {
        "execution": {
          "iopub.execute_input": "2023-12-27T08:01:01.461353Z",
          "iopub.status.busy": "2023-12-27T08:01:01.460595Z",
          "iopub.status.idle": "2023-12-27T08:01:01.466671Z",
          "shell.execute_reply": "2023-12-27T08:01:01.465747Z"
        },
        "id": "98c090df",
        "outputId": "d11fda49-f876-43b1-a462-7e0397445191",
        "papermill": {
          "duration": 0.150333,
          "end_time": "2023-12-27T08:01:01.469359",
          "exception": false,
          "start_time": "2023-12-27T08:01:01.319026",
          "status": "completed"
        },
        "tags": [],
        "colab": {
          "base_uri": "https://localhost:8080/"
        }
      },
      "outputs": [
        {
          "output_type": "execute_result",
          "data": {
            "text/plain": [
              "(351,)"
            ]
          },
          "metadata": {},
          "execution_count": 27
        }
      ],
      "source": [
        "y.shape"
      ]
    },
    {
      "cell_type": "markdown",
      "id": "1a0b3372",
      "metadata": {
        "papermill": {
          "duration": 0.136272,
          "end_time": "2023-12-27T08:01:01.744432",
          "exception": false,
          "start_time": "2023-12-27T08:01:01.608160",
          "status": "completed"
        },
        "tags": [],
        "id": "1a0b3372"
      },
      "source": [
        "# Борьба с дибалансом"
      ]
    },
    {
      "cell_type": "markdown",
      "id": "769105bb",
      "metadata": {
        "id": "769105bb",
        "papermill": {
          "duration": 0.14797,
          "end_time": "2023-12-27T08:01:02.036069",
          "exception": false,
          "start_time": "2023-12-27T08:01:01.888099",
          "status": "completed"
        },
        "tags": []
      },
      "source": [
        "для борьбы с дисбалансом выполним случайное сэмплирование"
      ]
    },
    {
      "cell_type": "markdown",
      "source": [
        "**т.е. выполним аугментацию случайным сэмплированием**"
      ],
      "metadata": {
        "id": "LOUmm94t_b8-"
      },
      "id": "LOUmm94t_b8-"
    },
    {
      "cell_type": "code",
      "execution_count": 28,
      "id": "4f7abc9c",
      "metadata": {
        "execution": {
          "iopub.execute_input": "2023-12-27T08:01:02.319207Z",
          "iopub.status.busy": "2023-12-27T08:01:02.318230Z",
          "iopub.status.idle": "2023-12-27T08:01:09.767551Z",
          "shell.execute_reply": "2023-12-27T08:01:09.766207Z"
        },
        "id": "4f7abc9c",
        "papermill": {
          "duration": 7.594365,
          "end_time": "2023-12-27T08:01:09.770811",
          "exception": false,
          "start_time": "2023-12-27T08:01:02.176446",
          "status": "completed"
        },
        "tags": []
      },
      "outputs": [],
      "source": [
        "from imblearn.over_sampling import RandomOverSampler # импорт класса из библиотеки, которая используется для работы с несбалансированными данными\n",
        "reshaped_X = X.reshape(X.shape[0],-1) # входные данные X преобразуются, чтобы каждое изображение было \"развернуто\" в одномерный массив\n",
        "oversample = RandomOverSampler(sampling_strategy='not majority') # Создание объекта, который будет использоваться для аугментации данных\n",
        "X, y  = oversample.fit_resample(reshaped_X , y) #применение аугментации к данным\n",
        "X = X.reshape(-1,120,120,3) # возврат к исходной форме данных"
      ]
    },
    {
      "cell_type": "code",
      "execution_count": 29,
      "id": "5dba4964",
      "metadata": {
        "execution": {
          "iopub.execute_input": "2023-12-27T08:01:10.047048Z",
          "iopub.status.busy": "2023-12-27T08:01:10.046130Z",
          "iopub.status.idle": "2023-12-27T08:01:10.053975Z",
          "shell.execute_reply": "2023-12-27T08:01:10.052815Z"
        },
        "id": "5dba4964",
        "papermill": {
          "duration": 0.148206,
          "end_time": "2023-12-27T08:01:10.056220",
          "exception": false,
          "start_time": "2023-12-27T08:01:09.908014",
          "status": "completed"
        },
        "tags": [],
        "outputId": "9e39d071-6dcd-4f65-bc49-9fd6514bb567",
        "colab": {
          "base_uri": "https://localhost:8080/"
        }
      },
      "outputs": [
        {
          "output_type": "execute_result",
          "data": {
            "text/plain": [
              "(984, 120, 120, 3)"
            ]
          },
          "metadata": {},
          "execution_count": 29
        }
      ],
      "source": [
        "X.shape"
      ]
    },
    {
      "cell_type": "markdown",
      "source": [
        "**Проверка данных на сбалансированность**"
      ],
      "metadata": {
        "id": "HnZWZMdGCPTP"
      },
      "id": "HnZWZMdGCPTP"
    },
    {
      "cell_type": "code",
      "source": [
        "y.shape"
      ],
      "metadata": {
        "colab": {
          "base_uri": "https://localhost:8080/"
        },
        "id": "XEdghPglCuGx",
        "outputId": "f7e73998-9129-4c4c-b346-61eafa8140b0"
      },
      "id": "XEdghPglCuGx",
      "execution_count": 30,
      "outputs": [
        {
          "output_type": "execute_result",
          "data": {
            "text/plain": [
              "(984,)"
            ]
          },
          "metadata": {},
          "execution_count": 30
        }
      ]
    },
    {
      "cell_type": "code",
      "source": [
        "y"
      ],
      "metadata": {
        "colab": {
          "base_uri": "https://localhost:8080/"
        },
        "id": "E8Xgb9GaC2sf",
        "outputId": "212a4efa-9ccc-4993-b95f-e48a265fa04b"
      },
      "id": "E8Xgb9GaC2sf",
      "execution_count": 31,
      "outputs": [
        {
          "output_type": "execute_result",
          "data": {
            "text/plain": [
              "array([2, 2, 2, 0, 2, 3, 2, 0, 2, 2, 2, 0, 2, 0, 2, 2, 1, 2, 1, 2, 2, 2,\n",
              "       1, 2, 2, 2, 3, 2, 3, 2, 2, 0, 3, 2, 2, 0, 2, 0, 1, 2, 2, 1, 2, 2,\n",
              "       1, 2, 2, 2, 0, 2, 0, 2, 2, 2, 2, 0, 2, 2, 2, 2, 3, 0, 2, 3, 2, 2,\n",
              "       2, 3, 2, 2, 2, 2, 3, 3, 2, 2, 2, 2, 0, 2, 3, 2, 2, 0, 2, 2, 0, 2,\n",
              "       0, 0, 2, 3, 0, 1, 0, 2, 2, 2, 2, 3, 2, 3, 0, 2, 2, 2, 2, 2, 0, 2,\n",
              "       2, 2, 2, 1, 0, 2, 2, 2, 0, 2, 2, 2, 2, 3, 2, 2, 2, 0, 2, 2, 2, 2,\n",
              "       2, 2, 2, 2, 3, 2, 2, 2, 2, 2, 2, 2, 3, 2, 2, 0, 2, 2, 2, 2, 2, 2,\n",
              "       2, 2, 2, 2, 1, 2, 2, 2, 0, 3, 0, 2, 2, 1, 0, 2, 3, 2, 2, 2, 3, 0,\n",
              "       2, 2, 0, 1, 2, 3, 2, 2, 2, 0, 2, 0, 2, 2, 2, 2, 0, 2, 2, 2, 1, 2,\n",
              "       2, 2, 2, 0, 2, 2, 2, 2, 0, 1, 0, 2, 3, 0, 2, 2, 2, 2, 2, 2, 2, 3,\n",
              "       0, 1, 2, 3, 2, 2, 0, 0, 1, 2, 2, 1, 0, 2, 2, 0, 0, 2, 2, 0, 2, 2,\n",
              "       2, 2, 2, 3, 2, 2, 2, 0, 2, 2, 2, 2, 2, 1, 2, 0, 0, 2, 2, 2, 2, 2,\n",
              "       2, 2, 2, 2, 3, 2, 0, 2, 2, 0, 2, 2, 2, 3, 3, 2, 2, 2, 2, 2, 2, 2,\n",
              "       2, 3, 2, 2, 2, 2, 2, 2, 2, 2, 2, 2, 2, 0, 2, 0, 2, 2, 1, 2, 2, 2,\n",
              "       0, 2, 2, 2, 2, 0, 2, 2, 2, 2, 2, 0, 2, 2, 2, 3, 0, 2, 2, 2, 2, 2,\n",
              "       2, 2, 2, 2, 2, 3, 2, 0, 1, 2, 2, 2, 3, 2, 2, 2, 2, 2, 2, 2, 2, 0,\n",
              "       0, 0, 0, 0, 0, 0, 0, 0, 0, 0, 0, 0, 0, 0, 0, 0, 0, 0, 0, 0, 0, 0,\n",
              "       0, 0, 0, 0, 0, 0, 0, 0, 0, 0, 0, 0, 0, 0, 0, 0, 0, 0, 0, 0, 0, 0,\n",
              "       0, 0, 0, 0, 0, 0, 0, 0, 0, 0, 0, 0, 0, 0, 0, 0, 0, 0, 0, 0, 0, 0,\n",
              "       0, 0, 0, 0, 0, 0, 0, 0, 0, 0, 0, 0, 0, 0, 0, 0, 0, 0, 0, 0, 0, 0,\n",
              "       0, 0, 0, 0, 0, 0, 0, 0, 0, 0, 0, 0, 0, 0, 0, 0, 0, 0, 0, 0, 0, 0,\n",
              "       0, 0, 0, 0, 0, 0, 0, 0, 0, 0, 0, 0, 0, 0, 0, 0, 0, 0, 0, 0, 0, 0,\n",
              "       0, 0, 0, 0, 0, 0, 0, 0, 0, 0, 0, 0, 0, 0, 0, 0, 0, 0, 0, 0, 0, 0,\n",
              "       0, 0, 0, 0, 0, 0, 0, 0, 0, 0, 0, 0, 0, 0, 0, 0, 0, 0, 0, 0, 0, 0,\n",
              "       0, 0, 0, 0, 0, 0, 0, 0, 0, 0, 0, 0, 0, 0, 1, 1, 1, 1, 1, 1, 1, 1,\n",
              "       1, 1, 1, 1, 1, 1, 1, 1, 1, 1, 1, 1, 1, 1, 1, 1, 1, 1, 1, 1, 1, 1,\n",
              "       1, 1, 1, 1, 1, 1, 1, 1, 1, 1, 1, 1, 1, 1, 1, 1, 1, 1, 1, 1, 1, 1,\n",
              "       1, 1, 1, 1, 1, 1, 1, 1, 1, 1, 1, 1, 1, 1, 1, 1, 1, 1, 1, 1, 1, 1,\n",
              "       1, 1, 1, 1, 1, 1, 1, 1, 1, 1, 1, 1, 1, 1, 1, 1, 1, 1, 1, 1, 1, 1,\n",
              "       1, 1, 1, 1, 1, 1, 1, 1, 1, 1, 1, 1, 1, 1, 1, 1, 1, 1, 1, 1, 1, 1,\n",
              "       1, 1, 1, 1, 1, 1, 1, 1, 1, 1, 1, 1, 1, 1, 1, 1, 1, 1, 1, 1, 1, 1,\n",
              "       1, 1, 1, 1, 1, 1, 1, 1, 1, 1, 1, 1, 1, 1, 1, 1, 1, 1, 1, 1, 1, 1,\n",
              "       1, 1, 1, 1, 1, 1, 1, 1, 1, 1, 1, 1, 1, 1, 1, 1, 1, 1, 1, 1, 1, 1,\n",
              "       1, 1, 1, 1, 1, 1, 1, 1, 1, 1, 1, 1, 1, 1, 1, 1, 1, 1, 1, 1, 1, 1,\n",
              "       1, 1, 1, 1, 1, 1, 1, 1, 1, 1, 1, 1, 1, 1, 1, 1, 1, 1, 1, 1, 1, 3,\n",
              "       3, 3, 3, 3, 3, 3, 3, 3, 3, 3, 3, 3, 3, 3, 3, 3, 3, 3, 3, 3, 3, 3,\n",
              "       3, 3, 3, 3, 3, 3, 3, 3, 3, 3, 3, 3, 3, 3, 3, 3, 3, 3, 3, 3, 3, 3,\n",
              "       3, 3, 3, 3, 3, 3, 3, 3, 3, 3, 3, 3, 3, 3, 3, 3, 3, 3, 3, 3, 3, 3,\n",
              "       3, 3, 3, 3, 3, 3, 3, 3, 3, 3, 3, 3, 3, 3, 3, 3, 3, 3, 3, 3, 3, 3,\n",
              "       3, 3, 3, 3, 3, 3, 3, 3, 3, 3, 3, 3, 3, 3, 3, 3, 3, 3, 3, 3, 3, 3,\n",
              "       3, 3, 3, 3, 3, 3, 3, 3, 3, 3, 3, 3, 3, 3, 3, 3, 3, 3, 3, 3, 3, 3,\n",
              "       3, 3, 3, 3, 3, 3, 3, 3, 3, 3, 3, 3, 3, 3, 3, 3, 3, 3, 3, 3, 3, 3,\n",
              "       3, 3, 3, 3, 3, 3, 3, 3, 3, 3, 3, 3, 3, 3, 3, 3, 3, 3, 3, 3, 3, 3,\n",
              "       3, 3, 3, 3, 3, 3, 3, 3, 3, 3, 3, 3, 3, 3, 3, 3, 3, 3, 3, 3, 3, 3,\n",
              "       3, 3, 3, 3, 3, 3, 3, 3, 3, 3, 3, 3, 3, 3, 3, 3])"
            ]
          },
          "metadata": {},
          "execution_count": 31
        }
      ]
    },
    {
      "cell_type": "markdown",
      "source": [
        "***Посмотрим баланс получившихся данных (984)***"
      ],
      "metadata": {
        "id": "qWnDu47XwdZ8"
      },
      "id": "qWnDu47XwdZ8"
    },
    {
      "cell_type": "code",
      "source": [
        "df = pd.DataFrame(data=y, columns=[\"ClassId\"])"
      ],
      "metadata": {
        "id": "FQLvntHowdZ-"
      },
      "execution_count": 35,
      "outputs": [],
      "id": "FQLvntHowdZ-"
    },
    {
      "cell_type": "code",
      "source": [
        "df.isnull().sum()"
      ],
      "metadata": {
        "colab": {
          "base_uri": "https://localhost:8080/"
        },
        "outputId": "ea88e0b4-3b67-499d-993b-29d50c036645",
        "id": "_SwvDIqmwdZ_"
      },
      "execution_count": 36,
      "outputs": [
        {
          "output_type": "execute_result",
          "data": {
            "text/plain": [
              "ClassId    0\n",
              "dtype: int64"
            ]
          },
          "metadata": {},
          "execution_count": 36
        }
      ],
      "id": "_SwvDIqmwdZ_"
    },
    {
      "cell_type": "code",
      "source": [
        "df[\"ClassId\"].value_counts().plot(kind = 'bar')\n",
        "df[\"ClassId\"].value_counts()"
      ],
      "metadata": {
        "colab": {
          "base_uri": "https://localhost:8080/",
          "height": 555
        },
        "id": "1-DOQcEtDYxP",
        "outputId": "52f4de06-e634-4ef2-e82e-30b9e2eba4ac"
      },
      "id": "1-DOQcEtDYxP",
      "execution_count": 37,
      "outputs": [
        {
          "output_type": "execute_result",
          "data": {
            "text/plain": [
              "ClassId\n",
              "2    246\n",
              "0    246\n",
              "3    246\n",
              "1    246\n",
              "Name: count, dtype: int64"
            ]
          },
          "metadata": {},
          "execution_count": 37
        },
        {
          "output_type": "display_data",
          "data": {
            "text/plain": [
              "<Figure size 640x480 with 1 Axes>"
            ],
            "image/png": "[encoded data removed]"
          },
          "metadata": {}
        }
      ]
    },
    {
      "cell_type": "markdown",
      "source": [
        "**Получена наглядная картина сбалансированности данных**"
      ],
      "metadata": {
        "id": "5wz8jRf6Dqyf"
      },
      "id": "5wz8jRf6Dqyf"
    },
    {
      "cell_type": "markdown",
      "source": [
        "**Выполним категоризацию данных классов**"
      ],
      "metadata": {
        "id": "AkCDv387EHLv"
      },
      "id": "AkCDv387EHLv"
    },
    {
      "cell_type": "code",
      "execution_count": 38,
      "id": "82f990f1",
      "metadata": {
        "execution": {
          "iopub.execute_input": "2023-12-27T08:01:10.341950Z",
          "iopub.status.busy": "2023-12-27T08:01:10.341061Z",
          "iopub.status.idle": "2023-12-27T08:01:10.347346Z",
          "shell.execute_reply": "2023-12-27T08:01:10.346187Z"
        },
        "id": "82f990f1",
        "papermill": {
          "duration": 0.155158,
          "end_time": "2023-12-27T08:01:10.352293",
          "exception": false,
          "start_time": "2023-12-27T08:01:10.197135",
          "status": "completed"
        },
        "tags": []
      },
      "outputs": [],
      "source": [
        "\n",
        "y = to_categorical(y)"
      ]
    },
    {
      "cell_type": "code",
      "execution_count": 39,
      "id": "b9b77751",
      "metadata": {
        "execution": {
          "iopub.execute_input": "2023-12-27T08:01:10.639215Z",
          "iopub.status.busy": "2023-12-27T08:01:10.638332Z",
          "iopub.status.idle": "2023-12-27T08:01:10.646593Z",
          "shell.execute_reply": "2023-12-27T08:01:10.645358Z"
        },
        "id": "b9b77751",
        "papermill": {
          "duration": 0.14752,
          "end_time": "2023-12-27T08:01:10.649122",
          "exception": false,
          "start_time": "2023-12-27T08:01:10.501602",
          "status": "completed"
        },
        "tags": [],
        "outputId": "3d453ad8-3fa3-41bc-ab83-9be595b27fa3",
        "colab": {
          "base_uri": "https://localhost:8080/"
        }
      },
      "outputs": [
        {
          "output_type": "execute_result",
          "data": {
            "text/plain": [
              "array([[0., 0., 1., 0.],\n",
              "       [0., 0., 1., 0.],\n",
              "       [0., 0., 1., 0.],\n",
              "       ...,\n",
              "       [0., 0., 0., 1.],\n",
              "       [0., 0., 0., 1.],\n",
              "       [0., 0., 0., 1.]], dtype=float32)"
            ]
          },
          "metadata": {},
          "execution_count": 39
        }
      ],
      "source": [
        "y"
      ]
    },
    {
      "cell_type": "markdown",
      "id": "c94d3a08",
      "metadata": {
        "id": "c94d3a08",
        "papermill": {
          "duration": 0.134311,
          "end_time": "2023-12-27T08:01:10.918364",
          "exception": false,
          "start_time": "2023-12-27T08:01:10.784053",
          "status": "completed"
        },
        "tags": []
      },
      "source": [
        "разделим на тренировку и валидацию"
      ]
    },
    {
      "cell_type": "code",
      "execution_count": 40,
      "id": "5bbbf275",
      "metadata": {
        "execution": {
          "iopub.execute_input": "2023-12-27T08:01:11.189911Z",
          "iopub.status.busy": "2023-12-27T08:01:11.189280Z",
          "iopub.status.idle": "2023-12-27T08:01:13.706235Z",
          "shell.execute_reply": "2023-12-27T08:01:13.705019Z"
        },
        "id": "5bbbf275",
        "papermill": {
          "duration": 2.656345,
          "end_time": "2023-12-27T08:01:13.709223",
          "exception": false,
          "start_time": "2023-12-27T08:01:11.052878",
          "status": "completed"
        },
        "tags": []
      },
      "outputs": [],
      "source": [
        "X_train,X_test,y_train,y_test=train_test_split(X,y,test_size=0.2,stratify=y,shuffle=True)"
      ]
    },
    {
      "cell_type": "code",
      "execution_count": 41,
      "id": "31d03f4b",
      "metadata": {
        "execution": {
          "iopub.execute_input": "2023-12-27T08:01:13.986248Z",
          "iopub.status.busy": "2023-12-27T08:01:13.985218Z",
          "iopub.status.idle": "2023-12-27T08:01:13.994360Z",
          "shell.execute_reply": "2023-12-27T08:01:13.992865Z"
        },
        "id": "31d03f4b",
        "papermill": {
          "duration": 0.150417,
          "end_time": "2023-12-27T08:01:13.997024",
          "exception": false,
          "start_time": "2023-12-27T08:01:13.846607",
          "status": "completed"
        },
        "tags": [],
        "outputId": "4cc4b200-01ff-458e-c076-a995095822ca",
        "colab": {
          "base_uri": "https://localhost:8080/"
        }
      },
      "outputs": [
        {
          "output_type": "stream",
          "name": "stdout",
          "text": [
            "x_train размер: (787, 120, 120, 3)\n",
            "x_test размер: (197, 120, 120, 3)\n",
            "y_train размер: (787, 4)\n",
            "y_test размер: (197, 4)\n"
          ]
        }
      ],
      "source": [
        "print(\"x_train размер:\",X_train.shape)\n",
        "print(\"x_test размер:\",X_test.shape)\n",
        "print(\"y_train размер:\",y_train.shape)\n",
        "print(\"y_test размер:\",y_test.shape)"
      ]
    },
    {
      "cell_type": "markdown",
      "id": "ffbc28a1",
      "metadata": {
        "papermill": {
          "duration": 0.136133,
          "end_time": "2023-12-27T08:01:14.269545",
          "exception": false,
          "start_time": "2023-12-27T08:01:14.133412",
          "status": "completed"
        },
        "tags": [],
        "id": "ffbc28a1"
      },
      "source": [
        "# Построение нейронной сети  в 3 слоя и график обучения"
      ]
    },
    {
      "cell_type": "markdown",
      "source": [
        "### Тест 1"
      ],
      "metadata": {
        "id": "ruiBqf_eyk0K"
      },
      "id": "ruiBqf_eyk0K"
    },
    {
      "cell_type": "code",
      "execution_count": 42,
      "id": "18324b25",
      "metadata": {
        "execution": {
          "iopub.execute_input": "2023-12-27T08:01:14.554647Z",
          "iopub.status.busy": "2023-12-27T08:01:14.553689Z",
          "iopub.status.idle": "2023-12-27T08:01:14.778415Z",
          "shell.execute_reply": "2023-12-27T08:01:14.777165Z"
        },
        "papermill": {
          "duration": 0.370854,
          "end_time": "2023-12-27T08:01:14.781588",
          "exception": false,
          "start_time": "2023-12-27T08:01:14.410734",
          "status": "completed"
        },
        "tags": [],
        "id": "18324b25"
      },
      "outputs": [],
      "source": [
        "model_1=Sequential()\n",
        "model_1.add(Conv2D(32,(3,3),input_shape=(120,120,3),activation=\"relu\"))\n",
        "model_1.add(Flatten())\n",
        "model_1.add(Dense(4,activation=\"softmax\"))"
      ]
    },
    {
      "cell_type": "code",
      "execution_count": 43,
      "id": "23f55887",
      "metadata": {
        "execution": {
          "iopub.execute_input": "2023-12-27T08:01:15.065695Z",
          "iopub.status.busy": "2023-12-27T08:01:15.064910Z",
          "iopub.status.idle": "2023-12-27T08:01:15.088258Z",
          "shell.execute_reply": "2023-12-27T08:01:15.086840Z"
        },
        "papermill": {
          "duration": 0.167666,
          "end_time": "2023-12-27T08:01:15.091483",
          "exception": false,
          "start_time": "2023-12-27T08:01:14.923817",
          "status": "completed"
        },
        "tags": [],
        "id": "23f55887"
      },
      "outputs": [],
      "source": [
        "model_1.compile(loss=keras.losses.categorical_crossentropy,\n",
        "             optimizer=keras.optimizers.Adam(),\n",
        "             metrics=[\"accuracy\"])"
      ]
    },
    {
      "cell_type": "code",
      "execution_count": 44,
      "id": "420d064c",
      "metadata": {
        "execution": {
          "iopub.execute_input": "2023-12-27T08:01:15.373333Z",
          "iopub.status.busy": "2023-12-27T08:01:15.372864Z",
          "iopub.status.idle": "2023-12-27T08:15:45.670071Z",
          "shell.execute_reply": "2023-12-27T08:15:45.667569Z"
        },
        "papermill": {
          "duration": 870.443272,
          "end_time": "2023-12-27T08:15:45.674143",
          "exception": false,
          "start_time": "2023-12-27T08:01:15.230871",
          "status": "completed"
        },
        "tags": [],
        "id": "420d064c",
        "outputId": "722fce73-5f32-47af-aa66-b86749f756bb",
        "colab": {
          "base_uri": "https://localhost:8080/"
        }
      },
      "outputs": [
        {
          "output_type": "stream",
          "name": "stdout",
          "text": [
            "Epoch 1/10\n",
            "7/7 [==============================] - 10s 1s/step - loss: 10.8642 - accuracy: 0.2922 - val_loss: 10.5712 - val_accuracy: 0.3553\n",
            "Epoch 2/10\n",
            "7/7 [==============================] - 7s 1s/step - loss: 6.6862 - accuracy: 0.3520 - val_loss: 2.5300 - val_accuracy: 0.2843\n",
            "Epoch 3/10\n",
            "7/7 [==============================] - 7s 925ms/step - loss: 2.6918 - accuracy: 0.4003 - val_loss: 1.3366 - val_accuracy: 0.5838\n",
            "Epoch 4/10\n",
            "7/7 [==============================] - 8s 1s/step - loss: 1.0323 - accuracy: 0.6048 - val_loss: 0.7845 - val_accuracy: 0.6599\n",
            "Epoch 5/10\n",
            "7/7 [==============================] - 6s 851ms/step - loss: 0.6529 - accuracy: 0.7776 - val_loss: 0.7128 - val_accuracy: 0.7716\n",
            "Epoch 6/10\n",
            "7/7 [==============================] - 8s 1s/step - loss: 0.5003 - accuracy: 0.8005 - val_loss: 0.6028 - val_accuracy: 0.7817\n",
            "Epoch 7/10\n",
            "7/7 [==============================] - 6s 858ms/step - loss: 0.3770 - accuracy: 0.8844 - val_loss: 0.4818 - val_accuracy: 0.8731\n",
            "Epoch 8/10\n",
            "7/7 [==============================] - 7s 1s/step - loss: 0.2906 - accuracy: 0.9250 - val_loss: 0.4216 - val_accuracy: 0.8579\n",
            "Epoch 9/10\n",
            "7/7 [==============================] - 7s 980ms/step - loss: 0.2430 - accuracy: 0.9225 - val_loss: 0.3858 - val_accuracy: 0.9086\n",
            "Epoch 10/10\n",
            "7/7 [==============================] - 8s 1s/step - loss: 0.2216 - accuracy: 0.9339 - val_loss: 0.4076 - val_accuracy: 0.8934\n"
          ]
        }
      ],
      "source": [
        "history = model_1.fit(X_train,y_train,epochs=10,validation_data=(X_test,y_test),batch_size=128,\n",
        "                    verbose=1)"
      ]
    },
    {
      "cell_type": "code",
      "execution_count": 45,
      "id": "3ce4a90a",
      "metadata": {
        "execution": {
          "iopub.execute_input": "2023-12-27T08:15:46.204363Z",
          "iopub.status.busy": "2023-12-27T08:15:46.203842Z",
          "iopub.status.idle": "2023-12-27T08:15:46.631199Z",
          "shell.execute_reply": "2023-12-27T08:15:46.630066Z"
        },
        "papermill": {
          "duration": 0.695446,
          "end_time": "2023-12-27T08:15:46.633889",
          "exception": false,
          "start_time": "2023-12-27T08:15:45.938443",
          "status": "completed"
        },
        "tags": [],
        "id": "3ce4a90a",
        "outputId": "d39cc8f8-1448-4938-e741-d1eb38d6c94a",
        "colab": {
          "base_uri": "https://localhost:8080/",
          "height": 470
        }
      },
      "outputs": [
        {
          "output_type": "execute_result",
          "data": {
            "text/plain": [
              "<Axes: title={'center': 'Loss curve'}>"
            ]
          },
          "metadata": {},
          "execution_count": 45
        },
        {
          "output_type": "display_data",
          "data": {
            "text/plain": [
              "<Figure size 640x480 with 1 Axes>"
            ],
            "image/png": "[encoded data removed]"
          },
          "metadata": {}
        }
      ],
      "source": [
        "history_df = pd.DataFrame(history.history)\n",
        "history_df.loc[:, ['loss', 'val_loss']].plot(title = 'Loss curve')"
      ]
    },
    {
      "cell_type": "code",
      "execution_count": 46,
      "id": "556c363e",
      "metadata": {
        "execution": {
          "iopub.execute_input": "2023-12-27T08:15:47.168712Z",
          "iopub.status.busy": "2023-12-27T08:15:47.167859Z",
          "iopub.status.idle": "2023-12-27T08:15:47.557349Z",
          "shell.execute_reply": "2023-12-27T08:15:47.556066Z"
        },
        "papermill": {
          "duration": 0.659639,
          "end_time": "2023-12-27T08:15:47.560266",
          "exception": false,
          "start_time": "2023-12-27T08:15:46.900627",
          "status": "completed"
        },
        "tags": [],
        "id": "556c363e",
        "outputId": "295e7ea6-48e5-4f0b-eb4c-20021fcf43c1",
        "colab": {
          "base_uri": "https://localhost:8080/",
          "height": 470
        }
      },
      "outputs": [
        {
          "output_type": "execute_result",
          "data": {
            "text/plain": [
              "<Axes: title={'center': 'Accuracy curve'}>"
            ]
          },
          "metadata": {},
          "execution_count": 46
        },
        {
          "output_type": "display_data",
          "data": {
            "text/plain": [
              "<Figure size 640x480 with 1 Axes>"
            ],
            "image/png": "[encoded data removed]"
          },
          "metadata": {}
        }
      ],
      "source": [
        "history_df = pd.DataFrame(history.history)\n",
        "history_df.loc[:, ['accuracy', 'val_accuracy']].plot(title = 'Accuracy curve')"
      ]
    },
    {
      "cell_type": "markdown",
      "id": "e266e22a",
      "metadata": {
        "papermill": {
          "duration": null,
          "end_time": null,
          "exception": null,
          "start_time": null,
          "status": "pending"
        },
        "tags": [],
        "id": "e266e22a"
      },
      "source": [
        "# Построение нейронной сети  в 5 слоев"
      ]
    },
    {
      "cell_type": "markdown",
      "source": [
        "### Тест 2"
      ],
      "metadata": {
        "id": "4-CAneRGKpbT"
      },
      "id": "4-CAneRGKpbT"
    },
    {
      "cell_type": "code",
      "execution_count": 47,
      "id": "946d3feb",
      "metadata": {
        "papermill": {
          "duration": null,
          "end_time": null,
          "exception": null,
          "start_time": null,
          "status": "pending"
        },
        "tags": [],
        "id": "946d3feb"
      },
      "outputs": [],
      "source": [
        "model_2=Sequential()\n",
        "model_2.add(Conv2D(32,(3,3),input_shape=(120,120,3),activation=\"relu\"))\n",
        "model_2.add(MaxPooling2D(pool_size=(3,3)))\n",
        "model_2.add(Flatten())\n",
        "model_2.add(Dense(256,activation=\"relu\"))\n",
        "model_2.add(Dense(4,activation=\"softmax\"))\n"
      ]
    },
    {
      "cell_type": "code",
      "execution_count": 48,
      "id": "cd2a719d",
      "metadata": {
        "papermill": {
          "duration": null,
          "end_time": null,
          "exception": null,
          "start_time": null,
          "status": "pending"
        },
        "tags": [],
        "id": "cd2a719d"
      },
      "outputs": [],
      "source": [
        "model_2.compile(loss=keras.losses.categorical_crossentropy,\n",
        "             optimizer=keras.optimizers.Adam(),\n",
        "             metrics=[\"accuracy\"])"
      ]
    },
    {
      "cell_type": "code",
      "execution_count": 49,
      "id": "86b8280e",
      "metadata": {
        "papermill": {
          "duration": null,
          "end_time": null,
          "exception": null,
          "start_time": null,
          "status": "pending"
        },
        "tags": [],
        "id": "86b8280e",
        "colab": {
          "base_uri": "https://localhost:8080/"
        },
        "outputId": "9f32bcd5-68f5-4327-ad19-fa3d37e84d44"
      },
      "outputs": [
        {
          "output_type": "stream",
          "name": "stdout",
          "text": [
            "Epoch 1/10\n",
            "7/7 [==============================] - 12s 2s/step - loss: 5.1597 - accuracy: 0.3139 - val_loss: 1.9741 - val_accuracy: 0.4010\n",
            "Epoch 2/10\n",
            "7/7 [==============================] - 11s 2s/step - loss: 1.7732 - accuracy: 0.3888 - val_loss: 1.5879 - val_accuracy: 0.5178\n",
            "Epoch 3/10\n",
            "7/7 [==============================] - 9s 1s/step - loss: 1.1034 - accuracy: 0.6036 - val_loss: 0.9866 - val_accuracy: 0.6142\n",
            "Epoch 4/10\n",
            "7/7 [==============================] - 12s 2s/step - loss: 0.8502 - accuracy: 0.7128 - val_loss: 0.8756 - val_accuracy: 0.6599\n",
            "Epoch 5/10\n",
            "7/7 [==============================] - 11s 2s/step - loss: 0.7036 - accuracy: 0.7637 - val_loss: 0.7361 - val_accuracy: 0.8020\n",
            "Epoch 6/10\n",
            "7/7 [==============================] - 11s 2s/step - loss: 0.5802 - accuracy: 0.8196 - val_loss: 0.6303 - val_accuracy: 0.7970\n",
            "Epoch 7/10\n",
            "7/7 [==============================] - 10s 2s/step - loss: 0.4756 - accuracy: 0.8628 - val_loss: 0.6080 - val_accuracy: 0.7766\n",
            "Epoch 8/10\n",
            "7/7 [==============================] - 10s 1s/step - loss: 0.4077 - accuracy: 0.8742 - val_loss: 0.5489 - val_accuracy: 0.8376\n",
            "Epoch 9/10\n",
            "7/7 [==============================] - 11s 2s/step - loss: 0.3538 - accuracy: 0.9034 - val_loss: 0.5066 - val_accuracy: 0.8376\n",
            "Epoch 10/10\n",
            "7/7 [==============================] - 11s 2s/step - loss: 0.2823 - accuracy: 0.9301 - val_loss: 0.4988 - val_accuracy: 0.8274\n"
          ]
        }
      ],
      "source": [
        "history = model_2.fit(X_train,y_train,epochs=10,validation_data=(X_test,y_test),batch_size=128,\n",
        "                    verbose=1)"
      ]
    },
    {
      "cell_type": "code",
      "execution_count": 50,
      "id": "5eff68bc",
      "metadata": {
        "papermill": {
          "duration": null,
          "end_time": null,
          "exception": null,
          "start_time": null,
          "status": "pending"
        },
        "tags": [],
        "id": "5eff68bc",
        "colab": {
          "base_uri": "https://localhost:8080/",
          "height": 470
        },
        "outputId": "86a6da7f-983c-4f63-a2fc-a6bb9e86f99b"
      },
      "outputs": [
        {
          "output_type": "execute_result",
          "data": {
            "text/plain": [
              "<Axes: title={'center': 'Loss curve'}>"
            ]
          },
          "metadata": {},
          "execution_count": 50
        },
        {
          "output_type": "display_data",
          "data": {
            "text/plain": [
              "<Figure size 640x480 with 1 Axes>"
            ],
            "image/png": "[encoded data removed]"
          },
          "metadata": {}
        }
      ],
      "source": [
        "history_df = pd.DataFrame(history.history)\n",
        "history_df.loc[:, ['loss', 'val_loss']].plot(title = 'Loss curve')"
      ]
    },
    {
      "cell_type": "code",
      "execution_count": 51,
      "id": "01f64416",
      "metadata": {
        "papermill": {
          "duration": null,
          "end_time": null,
          "exception": null,
          "start_time": null,
          "status": "pending"
        },
        "tags": [],
        "id": "01f64416",
        "colab": {
          "base_uri": "https://localhost:8080/",
          "height": 470
        },
        "outputId": "a7d96b2c-6cbe-4ad4-c343-b5d294967d82"
      },
      "outputs": [
        {
          "output_type": "execute_result",
          "data": {
            "text/plain": [
              "<Axes: title={'center': 'Accuracy curve'}>"
            ]
          },
          "metadata": {},
          "execution_count": 51
        },
        {
          "output_type": "display_data",
          "data": {
            "text/plain": [
              "<Figure size 640x480 with 1 Axes>"
            ],
            "image/png": "[encoded data removed]"
          },
          "metadata": {}
        }
      ],
      "source": [
        "history_df = pd.DataFrame(history.history)\n",
        "history_df.loc[:, ['accuracy', 'val_accuracy']].plot(title = 'Accuracy curve')"
      ]
    },
    {
      "cell_type": "markdown",
      "id": "426eb9d4",
      "metadata": {
        "id": "426eb9d4",
        "papermill": {
          "duration": null,
          "end_time": null,
          "exception": null,
          "start_time": null,
          "status": "pending"
        },
        "tags": []
      },
      "source": [
        "# Построение нейронной сети в 13 слоев и обучение"
      ]
    },
    {
      "cell_type": "markdown",
      "source": [
        "### Тест 3"
      ],
      "metadata": {
        "id": "LqU1BQIP4x5o"
      },
      "id": "LqU1BQIP4x5o"
    },
    {
      "cell_type": "code",
      "execution_count": 52,
      "id": "9863daa3",
      "metadata": {
        "id": "9863daa3",
        "papermill": {
          "duration": null,
          "end_time": null,
          "exception": null,
          "start_time": null,
          "status": "pending"
        },
        "tags": []
      },
      "outputs": [],
      "source": [
        "model_3=Sequential()\n",
        "model_3.add(Conv2D(32,(3,3),input_shape=(120,120,3),activation=\"relu\"))\n",
        "model_3.add(MaxPooling2D(pool_size=(3,3)))\n",
        "model_3.add(Conv2D(64,(3,3),activation=\"relu\"))\n",
        "model_3.add(MaxPooling2D(pool_size=(3,3)))\n",
        "model_3.add(Conv2D(64,(3,3),activation=\"relu\"))\n",
        "model_3.add(MaxPooling2D(pool_size=(4,4)))\n",
        "model_3.add(Flatten())\n",
        "model_3.add(Dense(128,activation=\"relu\"))\n",
        "model_3.add(Dropout(0.2))\n",
        "model_3.add(Dense(128,activation=\"relu\"))\n",
        "model_3.add(Dropout(0.2))\n",
        "model_3.add(Dense(256,activation=\"relu\"))\n",
        "model_3.add(Dense(4,activation=\"softmax\"))"
      ]
    },
    {
      "cell_type": "code",
      "execution_count": 53,
      "id": "84d53559",
      "metadata": {
        "id": "84d53559",
        "papermill": {
          "duration": null,
          "end_time": null,
          "exception": null,
          "start_time": null,
          "status": "pending"
        },
        "tags": []
      },
      "outputs": [],
      "source": [
        "early_stopping = tf.keras.callbacks.EarlyStopping(patience=5,min_delta=0.001,restore_best_weights=True)"
      ]
    },
    {
      "cell_type": "markdown",
      "id": "ab94c3ba",
      "metadata": {
        "id": "ab94c3ba",
        "papermill": {
          "duration": null,
          "end_time": null,
          "exception": null,
          "start_time": null,
          "status": "pending"
        },
        "tags": []
      },
      "source": [
        "Сборка и обучение модели"
      ]
    },
    {
      "cell_type": "code",
      "execution_count": 54,
      "id": "a453908b",
      "metadata": {
        "id": "a453908b",
        "papermill": {
          "duration": null,
          "end_time": null,
          "exception": null,
          "start_time": null,
          "status": "pending"
        },
        "tags": []
      },
      "outputs": [],
      "source": [
        "model_3.compile(loss=keras.losses.categorical_crossentropy,\n",
        "             optimizer=keras.optimizers.Adam(),\n",
        "             metrics=[\"accuracy\"])"
      ]
    },
    {
      "cell_type": "code",
      "execution_count": 55,
      "id": "6fd53281",
      "metadata": {
        "id": "6fd53281",
        "papermill": {
          "duration": null,
          "end_time": null,
          "exception": null,
          "start_time": null,
          "status": "pending"
        },
        "tags": [],
        "colab": {
          "base_uri": "https://localhost:8080/"
        },
        "outputId": "37f1ce56-4788-4ab9-f2c0-8835a11306ab"
      },
      "outputs": [
        {
          "output_type": "stream",
          "name": "stdout",
          "text": [
            "Epoch 1/10\n",
            "7/7 [==============================] - 14s 2s/step - loss: 1.3613 - accuracy: 0.3062 - val_loss: 1.3396 - val_accuracy: 0.3553\n",
            "Epoch 2/10\n",
            "7/7 [==============================] - 12s 2s/step - loss: 1.3235 - accuracy: 0.3659 - val_loss: 1.2667 - val_accuracy: 0.3706\n",
            "Epoch 3/10\n",
            "7/7 [==============================] - 12s 2s/step - loss: 1.2439 - accuracy: 0.4193 - val_loss: 1.1028 - val_accuracy: 0.5990\n",
            "Epoch 4/10\n",
            "7/7 [==============================] - 10s 1s/step - loss: 1.1077 - accuracy: 0.4968 - val_loss: 0.9904 - val_accuracy: 0.5330\n",
            "Epoch 5/10\n",
            "7/7 [==============================] - 11s 1s/step - loss: 1.0428 - accuracy: 0.4956 - val_loss: 0.9913 - val_accuracy: 0.5635\n",
            "Epoch 6/10\n",
            "7/7 [==============================] - 12s 2s/step - loss: 1.0059 - accuracy: 0.5248 - val_loss: 0.9432 - val_accuracy: 0.5635\n",
            "Epoch 7/10\n",
            "7/7 [==============================] - 11s 2s/step - loss: 0.9881 - accuracy: 0.5210 - val_loss: 0.9125 - val_accuracy: 0.5533\n",
            "Epoch 8/10\n",
            "7/7 [==============================] - 12s 2s/step - loss: 0.9320 - accuracy: 0.5731 - val_loss: 0.8903 - val_accuracy: 0.5990\n",
            "Epoch 9/10\n",
            "7/7 [==============================] - 11s 2s/step - loss: 0.9015 - accuracy: 0.5820 - val_loss: 0.8621 - val_accuracy: 0.6447\n",
            "Epoch 10/10\n",
            "7/7 [==============================] - 11s 2s/step - loss: 0.8464 - accuracy: 0.6163 - val_loss: 0.7733 - val_accuracy: 0.6650\n"
          ]
        }
      ],
      "source": [
        "history = model_3.fit(X_train,y_train,epochs=10,validation_data=(X_test,y_test),batch_size=128,\n",
        "                    verbose=1)"
      ]
    },
    {
      "cell_type": "markdown",
      "id": "48dc34a2",
      "metadata": {
        "papermill": {
          "duration": null,
          "end_time": null,
          "exception": null,
          "start_time": null,
          "status": "pending"
        },
        "tags": [],
        "id": "48dc34a2"
      },
      "source": [
        "# Анализ результатов обучения"
      ]
    },
    {
      "cell_type": "code",
      "execution_count": 56,
      "id": "371a612d",
      "metadata": {
        "id": "371a612d",
        "papermill": {
          "duration": null,
          "end_time": null,
          "exception": null,
          "start_time": null,
          "status": "pending"
        },
        "tags": [],
        "colab": {
          "base_uri": "https://localhost:8080/",
          "height": 470
        },
        "outputId": "1741f675-563b-4d01-cfef-400be1703b4e"
      },
      "outputs": [
        {
          "output_type": "execute_result",
          "data": {
            "text/plain": [
              "<Axes: title={'center': 'Loss curve'}>"
            ]
          },
          "metadata": {},
          "execution_count": 56
        },
        {
          "output_type": "display_data",
          "data": {
            "text/plain": [
              "<Figure size 640x480 with 1 Axes>"
            ],
            "image/png": "[encoded data removed]"
          },
          "metadata": {}
        }
      ],
      "source": [
        "history_df = pd.DataFrame(history.history)\n",
        "history_df.loc[:, ['loss', 'val_loss']].plot(title = 'Loss curve')"
      ]
    },
    {
      "cell_type": "code",
      "execution_count": 57,
      "id": "685ada3d",
      "metadata": {
        "id": "685ada3d",
        "papermill": {
          "duration": null,
          "end_time": null,
          "exception": null,
          "start_time": null,
          "status": "pending"
        },
        "tags": [],
        "colab": {
          "base_uri": "https://localhost:8080/",
          "height": 470
        },
        "outputId": "5dc9dbd3-ce5a-4e5f-899f-981156e4bf22"
      },
      "outputs": [
        {
          "output_type": "execute_result",
          "data": {
            "text/plain": [
              "<Axes: title={'center': 'Accuracy curve'}>"
            ]
          },
          "metadata": {},
          "execution_count": 57
        },
        {
          "output_type": "display_data",
          "data": {
            "text/plain": [
              "<Figure size 640x480 with 1 Axes>"
            ],
            "image/png": "[encoded data removed]"
          },
          "metadata": {}
        }
      ],
      "source": [
        "history_df = pd.DataFrame(history.history)\n",
        "history_df.loc[:, ['accuracy', 'val_accuracy']].plot(title = 'Accuracy curve')"
      ]
    },
    {
      "cell_type": "code",
      "execution_count": 58,
      "id": "47ab22c2",
      "metadata": {
        "id": "47ab22c2",
        "papermill": {
          "duration": null,
          "end_time": null,
          "exception": null,
          "start_time": null,
          "status": "pending"
        },
        "tags": [],
        "colab": {
          "base_uri": "https://localhost:8080/"
        },
        "outputId": "e1edc6fd-b5d5-4e05-b5a9-7c2fa15ddb91"
      },
      "outputs": [
        {
          "output_type": "stream",
          "name": "stdout",
          "text": [
            "7/7 [==============================] - 1s 172ms/step - loss: 0.7733 - accuracy: 0.6650\n",
            "[+] Accuracy: 66.50%\n"
          ]
        }
      ],
      "source": [
        "result = model_3.evaluate(X_test, y_test)\n",
        "\n",
        "loss = result[0]\n",
        "accuracy = result[1]\n",
        "print(f\"[+] Accuracy: {accuracy*100:.2f}%\")"
      ]
    },
    {
      "cell_type": "code",
      "source": [
        "result = model_2.evaluate(X_test, y_test)\n",
        "\n",
        "loss = result[0]\n",
        "accuracy = result[1]\n",
        "print(f\"[+] Accuracy: {accuracy*100:.2f}%\")"
      ],
      "metadata": {
        "colab": {
          "base_uri": "https://localhost:8080/"
        },
        "id": "nhcOMg-nkQ7l",
        "outputId": "a7e07ded-3c9b-47a2-8f75-7dc62a2f78e7"
      },
      "id": "nhcOMg-nkQ7l",
      "execution_count": 59,
      "outputs": [
        {
          "output_type": "stream",
          "name": "stdout",
          "text": [
            "7/7 [==============================] - 1s 94ms/step - loss: 0.4988 - accuracy: 0.8274\n",
            "[+] Accuracy: 82.74%\n"
          ]
        }
      ]
    },
    {
      "cell_type": "code",
      "source": [
        "result = model_1.evaluate(X_test, y_test)\n",
        "\n",
        "loss = result[0]\n",
        "accuracy = result[1]\n",
        "print(f\"[+] Accuracy: {accuracy*100:.2f}%\")"
      ],
      "metadata": {
        "colab": {
          "base_uri": "https://localhost:8080/"
        },
        "id": "sinBSg1HkStP",
        "outputId": "2b9f4ad6-eb42-442d-d265-02244ecf2a06"
      },
      "id": "sinBSg1HkStP",
      "execution_count": 60,
      "outputs": [
        {
          "output_type": "stream",
          "name": "stdout",
          "text": [
            "7/7 [==============================] - 1s 89ms/step - loss: 0.4076 - accuracy: 0.8934\n",
            "[+] Accuracy: 89.34%\n"
          ]
        }
      ]
    },
    {
      "cell_type": "markdown",
      "source": [
        "Модель с тремя слоями показала самые высокие результаты точности: 89%, а также наименьшее количество потерь."
      ],
      "metadata": {
        "id": "vB7UOWn4r18M"
      },
      "id": "vB7UOWn4r18M"
    },
    {
      "cell_type": "markdown",
      "id": "db6f41a7",
      "metadata": {
        "papermill": {
          "duration": null,
          "end_time": null,
          "exception": null,
          "start_time": null,
          "status": "pending"
        },
        "tags": [],
        "id": "db6f41a7"
      },
      "source": [
        "# Архитектура созданной нейронной сети"
      ]
    },
    {
      "cell_type": "code",
      "execution_count": 61,
      "id": "b0f644e3",
      "metadata": {
        "papermill": {
          "duration": null,
          "end_time": null,
          "exception": null,
          "start_time": null,
          "status": "pending"
        },
        "tags": [],
        "id": "b0f644e3",
        "colab": {
          "base_uri": "https://localhost:8080/"
        },
        "outputId": "e2d72f5b-ba59-45f2-f9be-37a6df3b9a11"
      },
      "outputs": [
        {
          "output_type": "stream",
          "name": "stdout",
          "text": [
            "Model: \"sequential\"\n",
            "_________________________________________________________________\n",
            " Layer (type)                Output Shape              Param #   \n",
            "=================================================================\n",
            " conv2d (Conv2D)             (None, 118, 118, 32)      896       \n",
            "                                                                 \n",
            " flatten (Flatten)           (None, 445568)            0         \n",
            "                                                                 \n",
            " dense (Dense)               (None, 4)                 1782276   \n",
            "                                                                 \n",
            "=================================================================\n",
            "Total params: 1783172 (6.80 MB)\n",
            "Trainable params: 1783172 (6.80 MB)\n",
            "Non-trainable params: 0 (0.00 Byte)\n",
            "_________________________________________________________________\n"
          ]
        }
      ],
      "source": [
        "model_1.summary()"
      ]
    },
    {
      "cell_type": "code",
      "source": [
        "model_2.summary()"
      ],
      "metadata": {
        "colab": {
          "base_uri": "https://localhost:8080/"
        },
        "id": "USwNsuR7kbs2",
        "outputId": "db1f4a3f-47b8-4b6c-d01a-1baa90adc8bc"
      },
      "id": "USwNsuR7kbs2",
      "execution_count": 62,
      "outputs": [
        {
          "output_type": "stream",
          "name": "stdout",
          "text": [
            "Model: \"sequential_1\"\n",
            "_________________________________________________________________\n",
            " Layer (type)                Output Shape              Param #   \n",
            "=================================================================\n",
            " conv2d_1 (Conv2D)           (None, 118, 118, 32)      896       \n",
            "                                                                 \n",
            " max_pooling2d (MaxPooling2  (None, 39, 39, 32)        0         \n",
            " D)                                                              \n",
            "                                                                 \n",
            " flatten_1 (Flatten)         (None, 48672)             0         \n",
            "                                                                 \n",
            " dense_1 (Dense)             (None, 256)               12460288  \n",
            "                                                                 \n",
            " dense_2 (Dense)             (None, 4)                 1028      \n",
            "                                                                 \n",
            "=================================================================\n",
            "Total params: 12462212 (47.54 MB)\n",
            "Trainable params: 12462212 (47.54 MB)\n",
            "Non-trainable params: 0 (0.00 Byte)\n",
            "_________________________________________________________________\n"
          ]
        }
      ]
    },
    {
      "cell_type": "code",
      "source": [
        "model_3.summary()"
      ],
      "metadata": {
        "colab": {
          "base_uri": "https://localhost:8080/"
        },
        "id": "me4xau-ikdYN",
        "outputId": "0a305471-6f35-4e2e-8274-b45fa8664f2d"
      },
      "id": "me4xau-ikdYN",
      "execution_count": 63,
      "outputs": [
        {
          "output_type": "stream",
          "name": "stdout",
          "text": [
            "Model: \"sequential_2\"\n",
            "_________________________________________________________________\n",
            " Layer (type)                Output Shape              Param #   \n",
            "=================================================================\n",
            " conv2d_2 (Conv2D)           (None, 118, 118, 32)      896       \n",
            "                                                                 \n",
            " max_pooling2d_1 (MaxPoolin  (None, 39, 39, 32)        0         \n",
            " g2D)                                                            \n",
            "                                                                 \n",
            " conv2d_3 (Conv2D)           (None, 37, 37, 64)        18496     \n",
            "                                                                 \n",
            " max_pooling2d_2 (MaxPoolin  (None, 12, 12, 64)        0         \n",
            " g2D)                                                            \n",
            "                                                                 \n",
            " conv2d_4 (Conv2D)           (None, 10, 10, 64)        36928     \n",
            "                                                                 \n",
            " max_pooling2d_3 (MaxPoolin  (None, 2, 2, 64)          0         \n",
            " g2D)                                                            \n",
            "                                                                 \n",
            " flatten_2 (Flatten)         (None, 256)               0         \n",
            "                                                                 \n",
            " dense_3 (Dense)             (None, 128)               32896     \n",
            "                                                                 \n",
            " dropout (Dropout)           (None, 128)               0         \n",
            "                                                                 \n",
            " dense_4 (Dense)             (None, 128)               16512     \n",
            "                                                                 \n",
            " dropout_1 (Dropout)         (None, 128)               0         \n",
            "                                                                 \n",
            " dense_5 (Dense)             (None, 256)               33024     \n",
            "                                                                 \n",
            " dense_6 (Dense)             (None, 4)                 1028      \n",
            "                                                                 \n",
            "=================================================================\n",
            "Total params: 139780 (546.02 KB)\n",
            "Trainable params: 139780 (546.02 KB)\n",
            "Non-trainable params: 0 (0.00 Byte)\n",
            "_________________________________________________________________\n"
          ]
        }
      ]
    },
    {
      "cell_type": "markdown",
      "id": "7051cc2c",
      "metadata": {
        "papermill": {
          "duration": null,
          "end_time": null,
          "exception": null,
          "start_time": null,
          "status": "pending"
        },
        "tags": [],
        "id": "7051cc2c"
      },
      "source": [
        "# Тестирование на новых примерах"
      ]
    },
    {
      "cell_type": "code",
      "execution_count": 136,
      "id": "c6ce65fb",
      "metadata": {
        "papermill": {
          "duration": null,
          "end_time": null,
          "exception": null,
          "start_time": null,
          "status": "pending"
        },
        "tags": [],
        "id": "c6ce65fb",
        "colab": {
          "base_uri": "https://localhost:8080/"
        },
        "outputId": "4ab80a54-272e-4130-84b6-cef61cd85e7b"
      },
      "outputs": [
        {
          "output_type": "execute_result",
          "data": {
            "text/plain": [
              "[3, 3, 3, 1]"
            ]
          },
          "metadata": {},
          "execution_count": 136
        }
      ],
      "source": [
        "l2[:4]"
      ]
    },
    {
      "cell_type": "code",
      "execution_count": 137,
      "id": "b92d28ac",
      "metadata": {
        "papermill": {
          "duration": null,
          "end_time": null,
          "exception": null,
          "start_time": null,
          "status": "pending"
        },
        "tags": [],
        "id": "b92d28ac",
        "colab": {
          "base_uri": "https://localhost:8080/"
        },
        "outputId": "3296eee5-4eb3-49b9-eae0-a6a1ec23eef0"
      },
      "outputs": [
        {
          "output_type": "execute_result",
          "data": {
            "text/plain": [
              "array([1, 1, 1, 0])"
            ]
          },
          "metadata": {},
          "execution_count": 137
        }
      ],
      "source": [
        "x = np.array(l1[:4])\n",
        "x = x / 255\n",
        "\n",
        "y = encoder.fit_transform(l2[:4])\n",
        "y = np.array(y)\n",
        "y"
      ]
    },
    {
      "cell_type": "code",
      "source": [
        "for i in range(4):\n",
        "    plt.subplot(2,5,i+1)\n",
        "    plt.imshow(l1[i])\n",
        "plt.show()"
      ],
      "metadata": {
        "colab": {
          "base_uri": "https://localhost:8080/",
          "height": 151
        },
        "id": "fXmzN29axGUt",
        "outputId": "5d9de14b-4e3e-48dc-cf28-477f9aa2ece4"
      },
      "id": "fXmzN29axGUt",
      "execution_count": 142,
      "outputs": [
        {
          "output_type": "display_data",
          "data": {
            "text/plain": [
              "<Figure size 640x480 with 4 Axes>"
            ],
            "image/png": "[encoded data removed]"
          },
          "metadata": {}
        }
      ]
    },
    {
      "cell_type": "code",
      "execution_count": 114,
      "id": "1edf4a5e",
      "metadata": {
        "papermill": {
          "duration": null,
          "end_time": null,
          "exception": null,
          "start_time": null,
          "status": "pending"
        },
        "tags": [],
        "id": "1edf4a5e",
        "colab": {
          "base_uri": "https://localhost:8080/",
          "height": 434
        },
        "outputId": "4642b262-f00c-499c-ce7f-c5e936d4ef1f"
      },
      "outputs": [
        {
          "output_type": "display_data",
          "data": {
            "text/plain": [
              "<Figure size 640x480 with 1 Axes>"
            ],
            "image/png": "[encoded data removed]"
          },
          "metadata": {}
        }
      ],
      "source": [
        "plt.imshow(l1[0]);"
      ]
    },
    {
      "cell_type": "code",
      "execution_count": 76,
      "id": "59a4c377",
      "metadata": {
        "papermill": {
          "duration": null,
          "end_time": null,
          "exception": null,
          "start_time": null,
          "status": "pending"
        },
        "tags": [],
        "id": "59a4c377",
        "colab": {
          "base_uri": "https://localhost:8080/",
          "height": 434
        },
        "outputId": "07499471-8ace-40c4-a6cd-a7b87d06aae3"
      },
      "outputs": [
        {
          "output_type": "display_data",
          "data": {
            "text/plain": [
              "<Figure size 640x480 with 1 Axes>"
            ],
            "image/png": "[encoded data removed]"
          },
          "metadata": {}
        }
      ],
      "source": [
        "plt.imshow(l1[1]);"
      ]
    },
    {
      "cell_type": "code",
      "execution_count": 149,
      "id": "0cdfe689",
      "metadata": {
        "papermill": {
          "duration": null,
          "end_time": null,
          "exception": null,
          "start_time": null,
          "status": "pending"
        },
        "tags": [],
        "id": "0cdfe689",
        "colab": {
          "base_uri": "https://localhost:8080/",
          "height": 434
        },
        "outputId": "8af7b792-158e-4ecf-e69d-d220af49e806"
      },
      "outputs": [
        {
          "output_type": "display_data",
          "data": {
            "text/plain": [
              "<Figure size 640x480 with 1 Axes>"
            ],
            "image/png": "[encoded data removed]"
          },
          "metadata": {}
        }
      ],
      "source": [
        "plt.imshow(l1[4]);"
      ]
    },
    {
      "cell_type": "code",
      "execution_count": 143,
      "id": "ea343d7e",
      "metadata": {
        "papermill": {
          "duration": null,
          "end_time": null,
          "exception": null,
          "start_time": null,
          "status": "pending"
        },
        "tags": [],
        "id": "ea343d7e",
        "colab": {
          "base_uri": "https://localhost:8080/"
        },
        "outputId": "d3eacb32-9976-4fee-da8d-f68ef2a80d2e"
      },
      "outputs": [
        {
          "output_type": "execute_result",
          "data": {
            "text/plain": [
              "array([[0., 1.],\n",
              "       [0., 1.],\n",
              "       [0., 1.],\n",
              "       [1., 0.]], dtype=float32)"
            ]
          },
          "metadata": {},
          "execution_count": 143
        }
      ],
      "source": [
        "y =  to_categorical(y,)\n",
        "y"
      ]
    },
    {
      "cell_type": "code",
      "execution_count": 144,
      "id": "0d414f4c",
      "metadata": {
        "papermill": {
          "duration": null,
          "end_time": null,
          "exception": null,
          "start_time": null,
          "status": "pending"
        },
        "tags": [],
        "id": "0d414f4c",
        "colab": {
          "base_uri": "https://localhost:8080/"
        },
        "outputId": "37144e4a-d946-414a-c480-f4aaff533ee4"
      },
      "outputs": [
        {
          "output_type": "stream",
          "name": "stdout",
          "text": [
            "1/1 [==============================] - 0s 31ms/step\n"
          ]
        },
        {
          "output_type": "execute_result",
          "data": {
            "text/plain": [
              "array([1, 2, 2, 0])"
            ]
          },
          "metadata": {},
          "execution_count": 144
        }
      ],
      "source": [
        "\n",
        "predictions = np.argmax(model_1.predict(X), axis=1)\n",
        "predictions"
      ]
    },
    {
      "cell_type": "code",
      "source": [
        "predictions = np.argmax(model_2.predict(X), axis=1)\n",
        "predictions"
      ],
      "metadata": {
        "colab": {
          "base_uri": "https://localhost:8080/"
        },
        "id": "KbwGh2vP2C-T",
        "outputId": "6cae13d8-de08-40a8-cdc9-0fa22ae84ea7"
      },
      "id": "KbwGh2vP2C-T",
      "execution_count": 145,
      "outputs": [
        {
          "output_type": "stream",
          "name": "stdout",
          "text": [
            "1/1 [==============================] - 0s 68ms/step\n"
          ]
        },
        {
          "output_type": "execute_result",
          "data": {
            "text/plain": [
              "array([1, 2, 0, 0])"
            ]
          },
          "metadata": {},
          "execution_count": 145
        }
      ]
    },
    {
      "cell_type": "code",
      "source": [
        "predictions = np.argmax(model_3.predict(X), axis=1)\n",
        "predictions"
      ],
      "metadata": {
        "colab": {
          "base_uri": "https://localhost:8080/"
        },
        "id": "43GyhiDV2J1s",
        "outputId": "bae34015-d710-4f6c-fb18-74a4122bee5b"
      },
      "id": "43GyhiDV2J1s",
      "execution_count": 146,
      "outputs": [
        {
          "output_type": "stream",
          "name": "stdout",
          "text": [
            "1/1 [==============================] - 0s 35ms/step\n"
          ]
        },
        {
          "output_type": "execute_result",
          "data": {
            "text/plain": [
              "array([1, 2, 2, 0])"
            ]
          },
          "metadata": {},
          "execution_count": 146
        }
      ]
    },
    {
      "cell_type": "markdown",
      "id": "062bebdc",
      "metadata": {
        "papermill": {
          "duration": null,
          "end_time": null,
          "exception": null,
          "start_time": null,
          "status": "pending"
        },
        "tags": [],
        "id": "062bebdc"
      },
      "source": [
        "В трёх проведённых экспериментах модель угадала правильный ответ в 50% случаев. ([1, 1, 1, 0])  "
      ]
    },
    {
      "cell_type": "code",
      "execution_count": 150,
      "id": "1f12be01",
      "metadata": {
        "papermill": {
          "duration": null,
          "end_time": null,
          "exception": null,
          "start_time": null,
          "status": "pending"
        },
        "tags": [],
        "id": "1f12be01",
        "colab": {
          "base_uri": "https://localhost:8080/"
        },
        "outputId": "bc290c63-6bbe-49f7-f0fc-03429eceb24a"
      },
      "outputs": [
        {
          "output_type": "stream",
          "name": "stdout",
          "text": [
            "Model: \"sequential\"\n",
            "_________________________________________________________________\n",
            " Layer (type)                Output Shape              Param #   \n",
            "=================================================================\n",
            " conv2d (Conv2D)             (None, 118, 118, 32)      896       \n",
            "                                                                 \n",
            " flatten (Flatten)           (None, 445568)            0         \n",
            "                                                                 \n",
            " dense (Dense)               (None, 4)                 1782276   \n",
            "                                                                 \n",
            "=================================================================\n",
            "Total params: 1783172 (6.80 MB)\n",
            "Trainable params: 1783172 (6.80 MB)\n",
            "Non-trainable params: 0 (0.00 Byte)\n",
            "_________________________________________________________________\n"
          ]
        }
      ],
      "source": [
        "model_1.summary()"
      ]
    },
    {
      "cell_type": "code",
      "source": [
        "model_2.summary()"
      ],
      "metadata": {
        "colab": {
          "base_uri": "https://localhost:8080/"
        },
        "id": "4qZdj4GsEMsj",
        "outputId": "da7cd149-e202-48dd-d680-8d33bbdfd524"
      },
      "id": "4qZdj4GsEMsj",
      "execution_count": 151,
      "outputs": [
        {
          "output_type": "stream",
          "name": "stdout",
          "text": [
            "Model: \"sequential_1\"\n",
            "_________________________________________________________________\n",
            " Layer (type)                Output Shape              Param #   \n",
            "=================================================================\n",
            " conv2d_1 (Conv2D)           (None, 118, 118, 32)      896       \n",
            "                                                                 \n",
            " max_pooling2d (MaxPooling2  (None, 39, 39, 32)        0         \n",
            " D)                                                              \n",
            "                                                                 \n",
            " flatten_1 (Flatten)         (None, 48672)             0         \n",
            "                                                                 \n",
            " dense_1 (Dense)             (None, 256)               12460288  \n",
            "                                                                 \n",
            " dense_2 (Dense)             (None, 4)                 1028      \n",
            "                                                                 \n",
            "=================================================================\n",
            "Total params: 12462212 (47.54 MB)\n",
            "Trainable params: 12462212 (47.54 MB)\n",
            "Non-trainable params: 0 (0.00 Byte)\n",
            "_________________________________________________________________\n"
          ]
        }
      ]
    },
    {
      "cell_type": "code",
      "source": [
        "model_3.summary()"
      ],
      "metadata": {
        "colab": {
          "base_uri": "https://localhost:8080/"
        },
        "id": "qEEvSPCfEbNi",
        "outputId": "9b86500a-4df6-4bf6-abf0-426ddcc4d7f4"
      },
      "id": "qEEvSPCfEbNi",
      "execution_count": 152,
      "outputs": [
        {
          "output_type": "stream",
          "name": "stdout",
          "text": [
            "Model: \"sequential_2\"\n",
            "_________________________________________________________________\n",
            " Layer (type)                Output Shape              Param #   \n",
            "=================================================================\n",
            " conv2d_2 (Conv2D)           (None, 118, 118, 32)      896       \n",
            "                                                                 \n",
            " max_pooling2d_1 (MaxPoolin  (None, 39, 39, 32)        0         \n",
            " g2D)                                                            \n",
            "                                                                 \n",
            " conv2d_3 (Conv2D)           (None, 37, 37, 64)        18496     \n",
            "                                                                 \n",
            " max_pooling2d_2 (MaxPoolin  (None, 12, 12, 64)        0         \n",
            " g2D)                                                            \n",
            "                                                                 \n",
            " conv2d_4 (Conv2D)           (None, 10, 10, 64)        36928     \n",
            "                                                                 \n",
            " max_pooling2d_3 (MaxPoolin  (None, 2, 2, 64)          0         \n",
            " g2D)                                                            \n",
            "                                                                 \n",
            " flatten_2 (Flatten)         (None, 256)               0         \n",
            "                                                                 \n",
            " dense_3 (Dense)             (None, 128)               32896     \n",
            "                                                                 \n",
            " dropout (Dropout)           (None, 128)               0         \n",
            "                                                                 \n",
            " dense_4 (Dense)             (None, 128)               16512     \n",
            "                                                                 \n",
            " dropout_1 (Dropout)         (None, 128)               0         \n",
            "                                                                 \n",
            " dense_5 (Dense)             (None, 256)               33024     \n",
            "                                                                 \n",
            " dense_6 (Dense)             (None, 4)                 1028      \n",
            "                                                                 \n",
            "=================================================================\n",
            "Total params: 139780 (546.02 KB)\n",
            "Trainable params: 139780 (546.02 KB)\n",
            "Non-trainable params: 0 (0.00 Byte)\n",
            "_________________________________________________________________\n"
          ]
        }
      ]
    },
    {
      "cell_type": "markdown",
      "id": "822bf4d1",
      "metadata": {
        "papermill": {
          "duration": null,
          "end_time": null,
          "exception": null,
          "start_time": null,
          "status": "pending"
        },
        "tags": [],
        "id": "822bf4d1"
      },
      "source": [
        "# описание архитектуры нейронной сети"
      ]
    },
    {
      "cell_type": "markdown",
      "id": "eaddca5f",
      "metadata": {
        "papermill": {
          "duration": null,
          "end_time": null,
          "exception": null,
          "start_time": null,
          "status": "pending"
        },
        "tags": [],
        "id": "eaddca5f"
      },
      "source": [
        "У нас тут многослойная нейронная сеть с разными типами слоев.\n",
        "\n",
        "теперь по поводу слоев нейронной сети и их особенностей.\n",
        "\n",
        "1 слой - Conv2D. Он используется для выполнения двумерной свертки входных данных. Он применяет набор фильтров к входному изображению или карте объектов, перемещая их по входным данным и вычисляя скалярное произведение в каждом месте. Эта операция позволяет слою извлекать объекты и фиксировать пространственные отношения во входных данных. Уровень Conv2D обычно используется в сверточных нейронных сетях (CNN) для таких задач, как классификация изображений, обнаружение объектов и сегментация изображений.\n",
        "\n",
        "2 слой - MaxPooling2D.  Это  операция понижающей дискретизации, которая уменьшает пространственные размеры (ширину и высоту) входного изображения или карты объектов. Он делит входные данные на непересекающиеся прямоугольники и выводит максимальное значение внутри каждого прямоугольника. Это помогает извлечь наиболее важные функции и снизить вычислительные требования для последующих слоев.\n",
        "\n",
        "Далее эти слои повторяются еще 2 раза.\n",
        "\n",
        "7 слой - Flatten. он преобразует входной тензор в одномерный массив, эффективно выравнивая его. Он принимает многомерный входной тензор, например двумерное изображение, и преобразует его в одномерный вектор, который можно использовать в качестве входных данных для полностью связного слоя или любого другого слоя, который ожидает одномерных входных данных.\n",
        "\n",
        "8 слой - Dense. это полностью связный слой, который соединяет каждый нейрон предыдущего слоя с каждым нейроном текущего слоя. Он выполняет линейную операцию над входными данными, за которой следует функция активации, позволяющая сети изучать сложные закономерности и взаимосвязи в данных. Количество нейронов в плотном слое определяет размерность вывода.\n",
        "\n",
        "9 cлой - Dropout. это метод регуляризации, используемый для уменьшения переобучения в нейронных сетях. Он случайным образом устанавливает для части входных единиц значение 0 на каждом этапе обучения, что помогает предотвратить слишком большую зависимость сети от конкретных функций или корреляций. Dropout улучшает способность модели к обобщению за счет внесения шума во время обучения и побуждает сеть изучать более надежные и независимые представления.\n",
        "\n",
        "Далее слои повторяются.\n",
        "\n",
        "В итоге в данной нейронной сети 12 различных слоев, и 139 780 параметров."
      ]
    }
  ],
  "metadata": {
    "accelerator": "GPU",
    "colab": {
      "gpuType": "T4",
      "provenance": []
    },
    "kaggle": {
      "accelerator": "none",
      "dataSources": [
        {
          "databundleVersionId": 862020,
          "sourceId": 14241,
          "sourceType": "competition"
        }
      ],
      "dockerImageVersionId": 30626,
      "isGpuEnabled": false,
      "isInternetEnabled": true,
      "language": "python",
      "sourceType": "notebook"
    },
    "kernelspec": {
      "display_name": "Python 3",
      "language": "python",
      "name": "python3"
    },
    "language_info": {
      "codemirror_mode": {
        "name": "ipython",
        "version": 3
      },
      "file_extension": ".py",
      "mimetype": "text/x-python",
      "name": "python",
      "nbconvert_exporter": "python",
      "pygments_lexer": "ipython3",
      "version": "3.10.12"
    },
    "papermill": {
      "default_parameters": {},
      "duration": 1062.742156,
      "end_time": "2023-12-27T08:15:53.589044",
      "environment_variables": {},
      "exception": true,
      "input_path": "__notebook__.ipynb",
      "output_path": "__notebook__.ipynb",
      "parameters": {},
      "start_time": "2023-12-27T07:58:10.846888",
      "version": "2.2.2"
    }
  },
  "nbformat": 4,
  "nbformat_minor": 5
}